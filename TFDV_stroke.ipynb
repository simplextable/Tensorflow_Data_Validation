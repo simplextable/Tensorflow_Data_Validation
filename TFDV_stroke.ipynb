{
 "cells":[
  {
   "cell_type":"code",
   "source":[
    "%pip install tensorflow-data-validation"
   ],
   "execution_count":141,
   "outputs":[
    {
     "name":"stdout",
     "text":[
      "Requirement already satisfied: tensorflow-data-validation in \/opt\/anaconda3\/envs\/minimal\/lib\/python3.8\/site-packages (1.13.0)\r\n",
      "Requirement already satisfied: absl-py<2.0.0,>=0.9 in \/opt\/anaconda3\/envs\/minimal\/lib\/python3.8\/site-packages (from tensorflow-data-validation) (1.4.0)\r\n",
      "Requirement already satisfied: apache-beam[gcp]<3,>=2.40 in \/opt\/anaconda3\/envs\/minimal\/lib\/python3.8\/site-packages (from tensorflow-data-validation) (2.48.0)\r\n",
      "Requirement already satisfied: joblib>=1.2.0 in \/opt\/anaconda3\/envs\/minimal\/lib\/python3.8\/site-packages (from tensorflow-data-validation) (1.2.0)\r\n",
      "Requirement already satisfied: numpy~=1.22.0 in \/opt\/anaconda3\/envs\/minimal\/lib\/python3.8\/site-packages (from tensorflow-data-validation) (1.22.4)\r\n",
      "Requirement already satisfied: pandas<2,>=1.0 in \/opt\/anaconda3\/envs\/minimal\/lib\/python3.8\/site-packages (from tensorflow-data-validation) (1.5.3)\r\n",
      "Requirement already satisfied: protobuf<5,>=3.20.3 in \/opt\/anaconda3\/envs\/minimal\/lib\/python3.8\/site-packages (from tensorflow-data-validation) (3.20.3)\r\n",
      "Requirement already satisfied: pyarrow<7,>=6 in \/opt\/anaconda3\/envs\/minimal\/lib\/python3.8\/site-packages (from tensorflow-data-validation) (6.0.1)\r\n",
      "Requirement already satisfied: pyfarmhash<0.4,>=0.2.2 in \/opt\/anaconda3\/envs\/minimal\/lib\/python3.8\/site-packages (from tensorflow-data-validation) (0.3.2)\r\n",
      "Requirement already satisfied: six<2,>=1.12 in \/opt\/anaconda3\/envs\/minimal\/lib\/python3.8\/site-packages (from tensorflow-data-validation) (1.16.0)\r\n",
      "Requirement already satisfied: tensorflow<3,>=2.12 in \/opt\/anaconda3\/envs\/minimal\/lib\/python3.8\/site-packages (from tensorflow-data-validation) (2.12.0)\r\n",
      "Requirement already satisfied: tensorflow-metadata<1.14,>=1.13.1 in \/opt\/anaconda3\/envs\/minimal\/lib\/python3.8\/site-packages (from tensorflow-data-validation) (1.13.1)\r\n",
      "Requirement already satisfied: tfx-bsl<1.14,>=1.13.0 in \/opt\/anaconda3\/envs\/minimal\/lib\/python3.8\/site-packages (from tensorflow-data-validation) (1.13.0)\r\n",
      "Requirement already satisfied: crcmod<2.0,>=1.7 in \/opt\/anaconda3\/envs\/minimal\/lib\/python3.8\/site-packages (from apache-beam[gcp]<3,>=2.40->tensorflow-data-validation) (1.7)\r\n",
      "Requirement already satisfied: orjson<4.0 in \/opt\/anaconda3\/envs\/minimal\/lib\/python3.8\/site-packages (from apache-beam[gcp]<3,>=2.40->tensorflow-data-validation) (3.9.1)\r\n",
      "Requirement already satisfied: dill<0.3.2,>=0.3.1.1 in \/opt\/anaconda3\/envs\/minimal\/lib\/python3.8\/site-packages (from apache-beam[gcp]<3,>=2.40->tensorflow-data-validation) (0.3.1.1)\r\n",
      "Requirement already satisfied: cloudpickle~=2.2.1 in \/opt\/anaconda3\/envs\/minimal\/lib\/python3.8\/site-packages (from apache-beam[gcp]<3,>=2.40->tensorflow-data-validation) (2.2.1)\r\n",
      "Requirement already satisfied: fastavro<2,>=0.23.6 in \/opt\/anaconda3\/envs\/minimal\/lib\/python3.8\/site-packages (from apache-beam[gcp]<3,>=2.40->tensorflow-data-validation) (1.7.4)\r\n",
      "Requirement already satisfied: fasteners<1.0,>=0.3 in \/opt\/anaconda3\/envs\/minimal\/lib\/python3.8\/site-packages (from apache-beam[gcp]<3,>=2.40->tensorflow-data-validation) (0.18)\r\n",
      "Requirement already satisfied: grpcio!=1.48.0,<2,>=1.33.1 in \/opt\/anaconda3\/envs\/minimal\/lib\/python3.8\/site-packages (from apache-beam[gcp]<3,>=2.40->tensorflow-data-validation) (1.54.2)\r\n",
      "Requirement already satisfied: hdfs<3.0.0,>=2.1.0 in \/opt\/anaconda3\/envs\/minimal\/lib\/python3.8\/site-packages (from apache-beam[gcp]<3,>=2.40->tensorflow-data-validation) (2.7.0)\r\n",
      "Requirement already satisfied: httplib2<0.23.0,>=0.8 in \/opt\/anaconda3\/envs\/minimal\/lib\/python3.8\/site-packages (from apache-beam[gcp]<3,>=2.40->tensorflow-data-validation) (0.22.0)\r\n",
      "Requirement already satisfied: objsize<0.7.0,>=0.6.1 in \/opt\/anaconda3\/envs\/minimal\/lib\/python3.8\/site-packages (from apache-beam[gcp]<3,>=2.40->tensorflow-data-validation) (0.6.1)\r\n",
      "Requirement already satisfied: pymongo<5.0.0,>=3.8.0 in \/opt\/anaconda3\/envs\/minimal\/lib\/python3.8\/site-packages (from apache-beam[gcp]<3,>=2.40->tensorflow-data-validation) (4.3.3)\r\n",
      "Requirement already satisfied: proto-plus<2,>=1.7.1 in \/opt\/anaconda3\/envs\/minimal\/lib\/python3.8\/site-packages (from apache-beam[gcp]<3,>=2.40->tensorflow-data-validation) (1.22.2)\r\n",
      "Requirement already satisfied: pydot<2,>=1.2.0 in \/opt\/anaconda3\/envs\/minimal\/lib\/python3.8\/site-packages (from apache-beam[gcp]<3,>=2.40->tensorflow-data-validation) (1.4.2)\r\n",
      "Requirement already satisfied: python-dateutil<3,>=2.8.0 in \/opt\/anaconda3\/envs\/minimal\/lib\/python3.8\/site-packages (from apache-beam[gcp]<3,>=2.40->tensorflow-data-validation) (2.8.2)\r\n",
      "Requirement already satisfied: pytz>=2018.3 in \/opt\/anaconda3\/envs\/minimal\/lib\/python3.8\/site-packages (from apache-beam[gcp]<3,>=2.40->tensorflow-data-validation) (2023.3)\r\n",
      "Requirement already satisfied: regex>=2020.6.8 in \/opt\/anaconda3\/envs\/minimal\/lib\/python3.8\/site-packages (from apache-beam[gcp]<3,>=2.40->tensorflow-data-validation) (2023.6.3)\r\n",
      "Requirement already satisfied: requests<3.0.0,>=2.24.0 in \/opt\/anaconda3\/envs\/minimal\/lib\/python3.8\/site-packages (from apache-beam[gcp]<3,>=2.40->tensorflow-data-validation) (2.31.0)\r\n",
      "Requirement already satisfied: typing-extensions>=3.7.0 in \/opt\/anaconda3\/envs\/minimal\/lib\/python3.8\/site-packages (from apache-beam[gcp]<3,>=2.40->tensorflow-data-validation) (4.6.0)\r\n",
      "Requirement already satisfied: zstandard<1,>=0.18.0 in \/opt\/anaconda3\/envs\/minimal\/lib\/python3.8\/site-packages (from apache-beam[gcp]<3,>=2.40->tensorflow-data-validation) (0.21.0)\r\n",
      "Requirement already satisfied: cachetools<6,>=3.1.0 in \/opt\/anaconda3\/envs\/minimal\/lib\/python3.8\/site-packages (from apache-beam[gcp]<3,>=2.40->tensorflow-data-validation) (4.2.4)\r\n",
      "Requirement already satisfied: google-apitools<0.5.32,>=0.5.31 in \/opt\/anaconda3\/envs\/minimal\/lib\/python3.8\/site-packages (from apache-beam[gcp]<3,>=2.40->tensorflow-data-validation) (0.5.31)\r\n",
      "Requirement already satisfied: google-auth<3,>=1.18.0 in \/opt\/anaconda3\/envs\/minimal\/lib\/python3.8\/site-packages (from apache-beam[gcp]<3,>=2.40->tensorflow-data-validation) (1.35.0)\r\n",
      "Requirement already satisfied: google-auth-httplib2<0.2.0,>=0.1.0 in \/opt\/anaconda3\/envs\/minimal\/lib\/python3.8\/site-packages (from apache-beam[gcp]<3,>=2.40->tensorflow-data-validation) (0.1.0)\r\n",
      "Requirement already satisfied: google-cloud-datastore<3,>=2.0.0 in \/opt\/anaconda3\/envs\/minimal\/lib\/python3.8\/site-packages (from apache-beam[gcp]<3,>=2.40->tensorflow-data-validation) (2.11.0)\r\n",
      "Requirement already satisfied: google-cloud-pubsub<3,>=2.1.0 in \/opt\/anaconda3\/envs\/minimal\/lib\/python3.8\/site-packages (from apache-beam[gcp]<3,>=2.40->tensorflow-data-validation) (2.13.11)\r\n",
      "Requirement already satisfied: google-cloud-pubsublite<2,>=1.2.0 in \/opt\/anaconda3\/envs\/minimal\/lib\/python3.8\/site-packages (from apache-beam[gcp]<3,>=2.40->tensorflow-data-validation) (1.6.0)\r\n",
      "Requirement already satisfied: google-cloud-bigquery<4,>=2.0.0 in \/opt\/anaconda3\/envs\/minimal\/lib\/python3.8\/site-packages (from apache-beam[gcp]<3,>=2.40->tensorflow-data-validation) (2.34.4)\r\n",
      "Requirement already satisfied: google-cloud-bigquery-storage<3,>=2.6.3 in \/opt\/anaconda3\/envs\/minimal\/lib\/python3.8\/site-packages (from apache-beam[gcp]<3,>=2.40->tensorflow-data-validation) (2.16.2)\r\n",
      "Requirement already satisfied: google-cloud-core<3,>=2.0.0 in \/opt\/anaconda3\/envs\/minimal\/lib\/python3.8\/site-packages (from apache-beam[gcp]<3,>=2.40->tensorflow-data-validation) (2.3.2)\r\n",
      "Requirement already satisfied: google-cloud-bigtable<2.18.0,>=2.0.0 in \/opt\/anaconda3\/envs\/minimal\/lib\/python3.8\/site-packages (from apache-beam[gcp]<3,>=2.40->tensorflow-data-validation) (2.15.0)\r\n",
      "Requirement already satisfied: google-cloud-spanner<4,>=3.0.0 in \/opt\/anaconda3\/envs\/minimal\/lib\/python3.8\/site-packages (from apache-beam[gcp]<3,>=2.40->tensorflow-data-validation) (3.26.0)\r\n",
      "Requirement already satisfied: google-cloud-dlp<4,>=3.0.0 in \/opt\/anaconda3\/envs\/minimal\/lib\/python3.8\/site-packages (from apache-beam[gcp]<3,>=2.40->tensorflow-data-validation) (3.9.2)\r\n",
      "Requirement already satisfied: google-cloud-language<3,>=2.0 in \/opt\/anaconda3\/envs\/minimal\/lib\/python3.8\/site-packages (from apache-beam[gcp]<3,>=2.40->tensorflow-data-validation) (2.6.1)\r\n",
      "Requirement already satisfied: google-cloud-videointelligence<3,>=2.0 in \/opt\/anaconda3\/envs\/minimal\/lib\/python3.8\/site-packages (from apache-beam[gcp]<3,>=2.40->tensorflow-data-validation) (2.8.3)\r\n",
      "Requirement already satisfied: google-cloud-vision<4,>=2 in \/opt\/anaconda3\/envs\/minimal\/lib\/python3.8\/site-packages (from apache-beam[gcp]<3,>=2.40->tensorflow-data-validation) (3.1.4)\r\n",
      "Requirement already satisfied: google-cloud-recommendations-ai<0.11.0,>=0.1.0 in \/opt\/anaconda3\/envs\/minimal\/lib\/python3.8\/site-packages (from apache-beam[gcp]<3,>=2.40->tensorflow-data-validation) (0.7.1)\r\n",
      "Requirement already satisfied: astunparse>=1.6.0 in \/opt\/anaconda3\/envs\/minimal\/lib\/python3.8\/site-packages (from tensorflow<3,>=2.12->tensorflow-data-validation) (1.6.3)\r\n",
      "Requirement already satisfied: flatbuffers>=2.0 in \/opt\/anaconda3\/envs\/minimal\/lib\/python3.8\/site-packages (from tensorflow<3,>=2.12->tensorflow-data-validation) (23.5.26)\r\n",
      "Requirement already satisfied: gast<=0.4.0,>=0.2.1 in \/opt\/anaconda3\/envs\/minimal\/lib\/python3.8\/site-packages (from tensorflow<3,>=2.12->tensorflow-data-validation) (0.4.0)\r\n",
      "Requirement already satisfied: google-pasta>=0.1.1 in \/opt\/anaconda3\/envs\/minimal\/lib\/python3.8\/site-packages (from tensorflow<3,>=2.12->tensorflow-data-validation) (0.2.0)\r\n",
      "Requirement already satisfied: h5py>=2.9.0 in \/opt\/anaconda3\/envs\/minimal\/lib\/python3.8\/site-packages (from tensorflow<3,>=2.12->tensorflow-data-validation) (3.8.0)\r\n",
      "Requirement already satisfied: jax>=0.3.15 in \/opt\/anaconda3\/envs\/minimal\/lib\/python3.8\/site-packages (from tensorflow<3,>=2.12->tensorflow-data-validation) (0.4.12)\r\n",
      "Requirement already satisfied: keras<2.13,>=2.12.0 in \/opt\/anaconda3\/envs\/minimal\/lib\/python3.8\/site-packages (from tensorflow<3,>=2.12->tensorflow-data-validation) (2.12.0)\r\n",
      "Requirement already satisfied: libclang>=13.0.0 in \/opt\/anaconda3\/envs\/minimal\/lib\/python3.8\/site-packages (from tensorflow<3,>=2.12->tensorflow-data-validation) (16.0.0)\r\n",
      "Requirement already satisfied: opt-einsum>=2.3.2 in \/opt\/anaconda3\/envs\/minimal\/lib\/python3.8\/site-packages (from tensorflow<3,>=2.12->tensorflow-data-validation) (3.3.0)\r\n",
      "Requirement already satisfied: packaging in \/opt\/anaconda3\/envs\/minimal\/lib\/python3.8\/site-packages (from tensorflow<3,>=2.12->tensorflow-data-validation) (20.9)\r\n",
      "Requirement already satisfied: setuptools in \/opt\/anaconda3\/envs\/minimal\/lib\/python3.8\/site-packages (from tensorflow<3,>=2.12->tensorflow-data-validation) (67.7.2)\r\n",
      "Requirement already satisfied: tensorboard<2.13,>=2.12 in \/opt\/anaconda3\/envs\/minimal\/lib\/python3.8\/site-packages (from tensorflow<3,>=2.12->tensorflow-data-validation) (2.12.3)\r\n",
      "Requirement already satisfied: tensorflow-estimator<2.13,>=2.12.0 in \/opt\/anaconda3\/envs\/minimal\/lib\/python3.8\/site-packages (from tensorflow<3,>=2.12->tensorflow-data-validation) (2.12.0)\r\n",
      "Requirement already satisfied: termcolor>=1.1.0 in \/opt\/anaconda3\/envs\/minimal\/lib\/python3.8\/site-packages (from tensorflow<3,>=2.12->tensorflow-data-validation) (2.3.0)\r\n",
      "Requirement already satisfied: wrapt<1.15,>=1.11.0 in \/opt\/anaconda3\/envs\/minimal\/lib\/python3.8\/site-packages (from tensorflow<3,>=2.12->tensorflow-data-validation) (1.14.1)\r\n",
      "Requirement already satisfied: tensorflow-io-gcs-filesystem>=0.23.1 in \/opt\/anaconda3\/envs\/minimal\/lib\/python3.8\/site-packages (from tensorflow<3,>=2.12->tensorflow-data-validation) (0.32.0)\r\n",
      "Requirement already satisfied: googleapis-common-protos<2,>=1.52.0 in \/opt\/anaconda3\/envs\/minimal\/lib\/python3.8\/site-packages (from tensorflow-metadata<1.14,>=1.13.1->tensorflow-data-validation) (1.59.0)\r\n",
      "Requirement already satisfied: google-api-python-client<2,>=1.7.11 in \/opt\/anaconda3\/envs\/minimal\/lib\/python3.8\/site-packages (from tfx-bsl<1.14,>=1.13.0->tensorflow-data-validation) (1.12.11)\r\n",
      "Requirement already satisfied: tensorflow-serving-api!=2.0.*,!=2.1.*,!=2.2.*,!=2.3.*,!=2.4.*,!=2.5.*,!=2.6.*,!=2.7.*,!=2.8.*,<3,>=1.15 in \/opt\/anaconda3\/envs\/minimal\/lib\/python3.8\/site-packages (from tfx-bsl<1.14,>=1.13.0->tensorflow-data-validation) (2.12.1)\r\n",
      "Requirement already satisfied: wheel<1.0,>=0.23.0 in \/opt\/anaconda3\/envs\/minimal\/lib\/python3.8\/site-packages (from astunparse>=1.6.0->tensorflow<3,>=2.12->tensorflow-data-validation) (0.40.0)\r\n",
      "Requirement already satisfied: uritemplate<4dev,>=3.0.0 in \/opt\/anaconda3\/envs\/minimal\/lib\/python3.8\/site-packages (from google-api-python-client<2,>=1.7.11->tfx-bsl<1.14,>=1.13.0->tensorflow-data-validation) (3.0.1)\r\n",
      "Requirement already satisfied: google-api-core<3dev,>=1.21.0 in \/opt\/anaconda3\/envs\/minimal\/lib\/python3.8\/site-packages (from google-api-python-client<2,>=1.7.11->tfx-bsl<1.14,>=1.13.0->tensorflow-data-validation) (1.32.0)\r\n",
      "Requirement already satisfied: oauth2client>=1.4.12 in \/opt\/anaconda3\/envs\/minimal\/lib\/python3.8\/site-packages (from google-apitools<0.5.32,>=0.5.31->apache-beam[gcp]<3,>=2.40->tensorflow-data-validation) (4.1.3)\r\n",
      "Requirement already satisfied: pyasn1-modules>=0.2.1 in \/opt\/anaconda3\/envs\/minimal\/lib\/python3.8\/site-packages (from google-auth<3,>=1.18.0->apache-beam[gcp]<3,>=2.40->tensorflow-data-validation) (0.3.0)\r\n",
      "Requirement already satisfied: rsa<5,>=3.1.4 in \/opt\/anaconda3\/envs\/minimal\/lib\/python3.8\/site-packages (from google-auth<3,>=1.18.0->apache-beam[gcp]<3,>=2.40->tensorflow-data-validation) (4.9)\r\n",
      "Requirement already satisfied: google-resumable-media<3.0dev,>=0.6.0 in \/opt\/anaconda3\/envs\/minimal\/lib\/python3.8\/site-packages (from google-cloud-bigquery<4,>=2.0.0->apache-beam[gcp]<3,>=2.40->tensorflow-data-validation) (2.5.0)\r\n",
      "Requirement already satisfied: grpc-google-iam-v1<1.0.0dev,>=0.12.4 in \/opt\/anaconda3\/envs\/minimal\/lib\/python3.8\/site-packages (from google-cloud-bigtable<2.18.0,>=2.0.0->apache-beam[gcp]<3,>=2.40->tensorflow-data-validation) (0.12.6)\r\n",
      "Requirement already satisfied: grpcio-status>=1.16.0 in \/opt\/anaconda3\/envs\/minimal\/lib\/python3.8\/site-packages (from google-cloud-pubsub<3,>=2.1.0->apache-beam[gcp]<3,>=2.40->tensorflow-data-validation) (1.48.2)\r\n",
      "Requirement already satisfied: overrides<7.0.0,>=6.0.1 in \/opt\/anaconda3\/envs\/minimal\/lib\/python3.8\/site-packages (from google-cloud-pubsublite<2,>=1.2.0->apache-beam[gcp]<3,>=2.40->tensorflow-data-validation) (6.5.0)\r\n",
      "Requirement already satisfied: sqlparse>=0.3.0 in \/opt\/anaconda3\/envs\/minimal\/lib\/python3.8\/site-packages (from google-cloud-spanner<4,>=3.0.0->apache-beam[gcp]<3,>=2.40->tensorflow-data-validation) (0.4.4)\r\n",
      "Requirement already satisfied: docopt in \/opt\/anaconda3\/envs\/minimal\/lib\/python3.8\/site-packages (from hdfs<3.0.0,>=2.1.0->apache-beam[gcp]<3,>=2.40->tensorflow-data-validation) (0.6.2)\r\n",
      "Requirement already satisfied: pyparsing!=3.0.0,!=3.0.1,!=3.0.2,!=3.0.3,<4,>=2.4.2 in \/opt\/anaconda3\/envs\/minimal\/lib\/python3.8\/site-packages (from httplib2<0.23.0,>=0.8->apache-beam[gcp]<3,>=2.40->tensorflow-data-validation) (3.0.9)\r\n",
      "Requirement already satisfied: ml-dtypes>=0.1.0 in \/opt\/anaconda3\/envs\/minimal\/lib\/python3.8\/site-packages (from jax>=0.3.15->tensorflow<3,>=2.12->tensorflow-data-validation) (0.2.0)\r\n",
      "Requirement already satisfied: scipy>=1.7 in \/opt\/anaconda3\/envs\/minimal\/lib\/python3.8\/site-packages (from jax>=0.3.15->tensorflow<3,>=2.12->tensorflow-data-validation) (1.10.1)\r\n",
      "Requirement already satisfied: importlib-metadata>=4.6 in \/opt\/anaconda3\/envs\/minimal\/lib\/python3.8\/site-packages (from jax>=0.3.15->tensorflow<3,>=2.12->tensorflow-data-validation) (6.6.0)\r\n",
      "Requirement already satisfied: dnspython<3.0.0,>=1.16.0 in \/opt\/anaconda3\/envs\/minimal\/lib\/python3.8\/site-packages (from pymongo<5.0.0,>=3.8.0->apache-beam[gcp]<3,>=2.40->tensorflow-data-validation) (2.3.0)\r\n",
      "Requirement already satisfied: charset-normalizer<4,>=2 in \/opt\/anaconda3\/envs\/minimal\/lib\/python3.8\/site-packages (from requests<3.0.0,>=2.24.0->apache-beam[gcp]<3,>=2.40->tensorflow-data-validation) (2.1.1)\r\n",
      "Requirement already satisfied: idna<4,>=2.5 in \/opt\/anaconda3\/envs\/minimal\/lib\/python3.8\/site-packages (from requests<3.0.0,>=2.24.0->apache-beam[gcp]<3,>=2.40->tensorflow-data-validation) (3.4)\r\n",
      "Requirement already satisfied: urllib3<3,>=1.21.1 in \/opt\/anaconda3\/envs\/minimal\/lib\/python3.8\/site-packages (from requests<3.0.0,>=2.24.0->apache-beam[gcp]<3,>=2.40->tensorflow-data-validation) (1.26.16)\r\n",
      "Requirement already satisfied: certifi>=2017.4.17 in \/opt\/anaconda3\/envs\/minimal\/lib\/python3.8\/site-packages (from requests<3.0.0,>=2.24.0->apache-beam[gcp]<3,>=2.40->tensorflow-data-validation) (2023.5.7)\r\n",
      "Requirement already satisfied: google-auth-oauthlib<1.1,>=0.5 in \/opt\/anaconda3\/envs\/minimal\/lib\/python3.8\/site-packages (from tensorboard<2.13,>=2.12->tensorflow<3,>=2.12->tensorflow-data-validation) (0.5.3)\r\n",
      "Requirement already satisfied: markdown>=2.6.8 in \/opt\/anaconda3\/envs\/minimal\/lib\/python3.8\/site-packages (from tensorboard<2.13,>=2.12->tensorflow<3,>=2.12->tensorflow-data-validation) (3.4.3)\r\n",
      "Requirement already satisfied: tensorboard-data-server<0.8.0,>=0.7.0 in \/opt\/anaconda3\/envs\/minimal\/lib\/python3.8\/site-packages (from tensorboard<2.13,>=2.12->tensorflow<3,>=2.12->tensorflow-data-validation) (0.7.0)\r\n",
      "Requirement already satisfied: werkzeug>=1.0.1 in \/opt\/anaconda3\/envs\/minimal\/lib\/python3.8\/site-packages (from tensorboard<2.13,>=2.12->tensorflow<3,>=2.12->tensorflow-data-validation) (2.3.6)\r\n",
      "Requirement already satisfied: requests-oauthlib>=0.7.0 in \/opt\/anaconda3\/envs\/minimal\/lib\/python3.8\/site-packages (from google-auth-oauthlib<1.1,>=0.5->tensorboard<2.13,>=2.12->tensorflow<3,>=2.12->tensorflow-data-validation) (1.3.1)\r\n",
      "Requirement already satisfied: google-crc32c<2.0dev,>=1.0 in \/opt\/anaconda3\/envs\/minimal\/lib\/python3.8\/site-packages (from google-resumable-media<3.0dev,>=0.6.0->google-cloud-bigquery<4,>=2.0.0->apache-beam[gcp]<3,>=2.40->tensorflow-data-validation) (1.5.0)\r\n",
      "Requirement already satisfied: zipp>=0.5 in \/opt\/anaconda3\/envs\/minimal\/lib\/python3.8\/site-packages (from importlib-metadata>=4.6->jax>=0.3.15->tensorflow<3,>=2.12->tensorflow-data-validation) (3.15.0)\r\n",
      "Requirement already satisfied: pyasn1>=0.1.7 in \/opt\/anaconda3\/envs\/minimal\/lib\/python3.8\/site-packages (from oauth2client>=1.4.12->google-apitools<0.5.32,>=0.5.31->apache-beam[gcp]<3,>=2.40->tensorflow-data-validation) (0.5.0)\r\n",
      "Requirement already satisfied: MarkupSafe>=2.1.1 in \/opt\/anaconda3\/envs\/minimal\/lib\/python3.8\/site-packages (from werkzeug>=1.0.1->tensorboard<2.13,>=2.12->tensorflow<3,>=2.12->tensorflow-data-validation) (2.1.3)\r\n",
      "Requirement already satisfied: oauthlib>=3.0.0 in \/opt\/anaconda3\/envs\/minimal\/lib\/python3.8\/site-packages (from requests-oauthlib>=0.7.0->google-auth-oauthlib<1.1,>=0.5->tensorboard<2.13,>=2.12->tensorflow<3,>=2.12->tensorflow-data-validation) (3.2.2)\r\n",
      "Note: you may need to restart the kernel to use updated packages.\n"
     ],
     "output_type":"stream"
    }
   ],
   "metadata":{
    "datalore":{
     "node_id":"qOyonuQ8ENn3JGO0A0AwLS",
     "type":"CODE",
     "hide_input_from_viewers":false,
     "hide_output_from_viewers":false,
     "report_properties":{
      "rowId":"5Aqc01C12asHriaAECl04r"
     }
    }
   }
  },
  {
   "cell_type":"code",
   "source":[
    "%pip install tfx"
   ],
   "execution_count":142,
   "outputs":[
    {
     "name":"stdout",
     "text":[
      "Requirement already satisfied: tfx in \/opt\/anaconda3\/envs\/minimal\/lib\/python3.8\/site-packages (1.13.0)\r\n",
      "Requirement already satisfied: ml-pipelines-sdk==1.13.0 in \/opt\/anaconda3\/envs\/minimal\/lib\/python3.8\/site-packages (from tfx) (1.13.0)\r\n",
      "Requirement already satisfied: absl-py<2.0.0,>=0.9 in \/opt\/anaconda3\/envs\/minimal\/lib\/python3.8\/site-packages (from tfx) (1.4.0)\r\n",
      "Requirement already satisfied: ml-metadata<1.14.0,>=1.13.1 in \/opt\/anaconda3\/envs\/minimal\/lib\/python3.8\/site-packages (from tfx) (1.13.1)\r\n",
      "Requirement already satisfied: packaging<21,>=20 in \/opt\/anaconda3\/envs\/minimal\/lib\/python3.8\/site-packages (from tfx) (20.9)\r\n",
      "Requirement already satisfied: portpicker<2,>=1.3.1 in \/opt\/anaconda3\/envs\/minimal\/lib\/python3.8\/site-packages (from tfx) (1.5.2)\r\n",
      "Requirement already satisfied: protobuf<5,>=3.20.3 in \/opt\/anaconda3\/envs\/minimal\/lib\/python3.8\/site-packages (from tfx) (3.20.3)\r\n",
      "Requirement already satisfied: docker<5,>=4.1 in \/opt\/anaconda3\/envs\/minimal\/lib\/python3.8\/site-packages (from tfx) (4.4.4)\r\n",
      "Requirement already satisfied: google-apitools<1,>=0.5 in \/opt\/anaconda3\/envs\/minimal\/lib\/python3.8\/site-packages (from tfx) (0.5.31)\r\n",
      "Requirement already satisfied: google-api-python-client<2,>=1.8 in \/opt\/anaconda3\/envs\/minimal\/lib\/python3.8\/site-packages (from tfx) (1.12.11)\r\n",
      "Requirement already satisfied: jinja2<4,>=2.7.3 in \/opt\/anaconda3\/envs\/minimal\/lib\/python3.8\/site-packages (from tfx) (3.1.2)\r\n",
      "Requirement already satisfied: typing-extensions<5,>=3.10.0.2 in \/opt\/anaconda3\/envs\/minimal\/lib\/python3.8\/site-packages (from tfx) (4.6.0)\r\n",
      "Requirement already satisfied: apache-beam[gcp]<3,>=2.40 in \/opt\/anaconda3\/envs\/minimal\/lib\/python3.8\/site-packages (from tfx) (2.48.0)\r\n",
      "Requirement already satisfied: attrs<22,>=19.3.0 in \/opt\/anaconda3\/envs\/minimal\/lib\/python3.8\/site-packages (from tfx) (21.4.0)\r\n",
      "Requirement already satisfied: click<9,>=7 in \/opt\/anaconda3\/envs\/minimal\/lib\/python3.8\/site-packages (from tfx) (8.1.3)\r\n",
      "Requirement already satisfied: google-api-core<1.33 in \/opt\/anaconda3\/envs\/minimal\/lib\/python3.8\/site-packages (from tfx) (1.32.0)\r\n",
      "Requirement already satisfied: google-cloud-aiplatform<1.18,>=1.6.2 in \/opt\/anaconda3\/envs\/minimal\/lib\/python3.8\/site-packages (from tfx) (1.17.1)\r\n",
      "Requirement already satisfied: google-cloud-bigquery<3,>=2.26.0 in \/opt\/anaconda3\/envs\/minimal\/lib\/python3.8\/site-packages (from tfx) (2.34.4)\r\n",
      "Requirement already satisfied: grpcio<2,>=1.28.1 in \/opt\/anaconda3\/envs\/minimal\/lib\/python3.8\/site-packages (from tfx) (1.54.2)\r\n",
      "Requirement already satisfied: keras-tuner<2,>=1.0.4 in \/opt\/anaconda3\/envs\/minimal\/lib\/python3.8\/site-packages (from tfx) (1.3.5)\r\n",
      "Requirement already satisfied: kubernetes<13,>=10.0.1 in \/opt\/anaconda3\/envs\/minimal\/lib\/python3.8\/site-packages (from tfx) (12.0.1)\r\n",
      "Requirement already satisfied: numpy<2,>=1.16 in \/opt\/anaconda3\/envs\/minimal\/lib\/python3.8\/site-packages (from tfx) (1.22.4)\r\n",
      "Requirement already satisfied: pyarrow<7,>=6 in \/opt\/anaconda3\/envs\/minimal\/lib\/python3.8\/site-packages (from tfx) (6.0.1)\r\n",
      "Requirement already satisfied: pyyaml<6,>=3.12 in \/opt\/anaconda3\/envs\/minimal\/lib\/python3.8\/site-packages (from tfx) (5.4.1)\r\n",
      "Requirement already satisfied: tensorflow<2.13,>=2.12.0 in \/opt\/anaconda3\/envs\/minimal\/lib\/python3.8\/site-packages (from tfx) (2.12.0)\r\n",
      "Requirement already satisfied: tensorflow-hub<0.13,>=0.9.0 in \/opt\/anaconda3\/envs\/minimal\/lib\/python3.8\/site-packages (from tfx) (0.12.0)\r\n",
      "Requirement already satisfied: tensorflow-data-validation<1.14.0,>=1.13.0 in \/opt\/anaconda3\/envs\/minimal\/lib\/python3.8\/site-packages (from tfx) (1.13.0)\r\n",
      "Requirement already satisfied: tensorflow-model-analysis<0.45.0,>=0.44.0 in \/opt\/anaconda3\/envs\/minimal\/lib\/python3.8\/site-packages (from tfx) (0.44.0)\r\n",
      "Requirement already satisfied: tensorflow-serving-api!=2.0.*,!=2.1.*,!=2.2.*,!=2.3.*,!=2.4.*,!=2.5.*,!=2.6.*,!=2.7.*,!=2.8.*,<3,>=1.15 in \/opt\/anaconda3\/envs\/minimal\/lib\/python3.8\/site-packages (from tfx) (2.12.1)\r\n",
      "Requirement already satisfied: tensorflow-transform<1.14.0,>=1.13.0 in \/opt\/anaconda3\/envs\/minimal\/lib\/python3.8\/site-packages (from tfx) (1.13.0)\r\n",
      "Requirement already satisfied: tfx-bsl<1.14.0,>=1.13.0 in \/opt\/anaconda3\/envs\/minimal\/lib\/python3.8\/site-packages (from tfx) (1.13.0)\r\n",
      "Requirement already satisfied: crcmod<2.0,>=1.7 in \/opt\/anaconda3\/envs\/minimal\/lib\/python3.8\/site-packages (from apache-beam[gcp]<3,>=2.40->tfx) (1.7)\r\n",
      "Requirement already satisfied: orjson<4.0 in \/opt\/anaconda3\/envs\/minimal\/lib\/python3.8\/site-packages (from apache-beam[gcp]<3,>=2.40->tfx) (3.9.1)\r\n",
      "Requirement already satisfied: dill<0.3.2,>=0.3.1.1 in \/opt\/anaconda3\/envs\/minimal\/lib\/python3.8\/site-packages (from apache-beam[gcp]<3,>=2.40->tfx) (0.3.1.1)\r\n",
      "Requirement already satisfied: cloudpickle~=2.2.1 in \/opt\/anaconda3\/envs\/minimal\/lib\/python3.8\/site-packages (from apache-beam[gcp]<3,>=2.40->tfx) (2.2.1)\r\n",
      "Requirement already satisfied: fastavro<2,>=0.23.6 in \/opt\/anaconda3\/envs\/minimal\/lib\/python3.8\/site-packages (from apache-beam[gcp]<3,>=2.40->tfx) (1.7.4)\r\n",
      "Requirement already satisfied: fasteners<1.0,>=0.3 in \/opt\/anaconda3\/envs\/minimal\/lib\/python3.8\/site-packages (from apache-beam[gcp]<3,>=2.40->tfx) (0.18)\r\n",
      "Requirement already satisfied: hdfs<3.0.0,>=2.1.0 in \/opt\/anaconda3\/envs\/minimal\/lib\/python3.8\/site-packages (from apache-beam[gcp]<3,>=2.40->tfx) (2.7.0)\r\n",
      "Requirement already satisfied: httplib2<0.23.0,>=0.8 in \/opt\/anaconda3\/envs\/minimal\/lib\/python3.8\/site-packages (from apache-beam[gcp]<3,>=2.40->tfx) (0.22.0)\r\n",
      "Requirement already satisfied: objsize<0.7.0,>=0.6.1 in \/opt\/anaconda3\/envs\/minimal\/lib\/python3.8\/site-packages (from apache-beam[gcp]<3,>=2.40->tfx) (0.6.1)\r\n",
      "Requirement already satisfied: pymongo<5.0.0,>=3.8.0 in \/opt\/anaconda3\/envs\/minimal\/lib\/python3.8\/site-packages (from apache-beam[gcp]<3,>=2.40->tfx) (4.3.3)\r\n",
      "Requirement already satisfied: proto-plus<2,>=1.7.1 in \/opt\/anaconda3\/envs\/minimal\/lib\/python3.8\/site-packages (from apache-beam[gcp]<3,>=2.40->tfx) (1.22.2)\r\n",
      "Requirement already satisfied: pydot<2,>=1.2.0 in \/opt\/anaconda3\/envs\/minimal\/lib\/python3.8\/site-packages (from apache-beam[gcp]<3,>=2.40->tfx) (1.4.2)\r\n",
      "Requirement already satisfied: python-dateutil<3,>=2.8.0 in \/opt\/anaconda3\/envs\/minimal\/lib\/python3.8\/site-packages (from apache-beam[gcp]<3,>=2.40->tfx) (2.8.2)\r\n",
      "Requirement already satisfied: pytz>=2018.3 in \/opt\/anaconda3\/envs\/minimal\/lib\/python3.8\/site-packages (from apache-beam[gcp]<3,>=2.40->tfx) (2023.3)\r\n",
      "Requirement already satisfied: regex>=2020.6.8 in \/opt\/anaconda3\/envs\/minimal\/lib\/python3.8\/site-packages (from apache-beam[gcp]<3,>=2.40->tfx) (2023.6.3)\r\n",
      "Requirement already satisfied: requests<3.0.0,>=2.24.0 in \/opt\/anaconda3\/envs\/minimal\/lib\/python3.8\/site-packages (from apache-beam[gcp]<3,>=2.40->tfx) (2.31.0)\r\n",
      "Requirement already satisfied: zstandard<1,>=0.18.0 in \/opt\/anaconda3\/envs\/minimal\/lib\/python3.8\/site-packages (from apache-beam[gcp]<3,>=2.40->tfx) (0.21.0)\r\n",
      "Requirement already satisfied: cachetools<6,>=3.1.0 in \/opt\/anaconda3\/envs\/minimal\/lib\/python3.8\/site-packages (from apache-beam[gcp]<3,>=2.40->tfx) (4.2.4)\r\n",
      "Requirement already satisfied: google-auth<3,>=1.18.0 in \/opt\/anaconda3\/envs\/minimal\/lib\/python3.8\/site-packages (from apache-beam[gcp]<3,>=2.40->tfx) (1.35.0)\r\n",
      "Requirement already satisfied: google-auth-httplib2<0.2.0,>=0.1.0 in \/opt\/anaconda3\/envs\/minimal\/lib\/python3.8\/site-packages (from apache-beam[gcp]<3,>=2.40->tfx) (0.1.0)\r\n",
      "Requirement already satisfied: google-cloud-datastore<3,>=2.0.0 in \/opt\/anaconda3\/envs\/minimal\/lib\/python3.8\/site-packages (from apache-beam[gcp]<3,>=2.40->tfx) (2.11.0)\r\n",
      "Requirement already satisfied: google-cloud-pubsub<3,>=2.1.0 in \/opt\/anaconda3\/envs\/minimal\/lib\/python3.8\/site-packages (from apache-beam[gcp]<3,>=2.40->tfx) (2.13.11)\r\n",
      "Requirement already satisfied: google-cloud-pubsublite<2,>=1.2.0 in \/opt\/anaconda3\/envs\/minimal\/lib\/python3.8\/site-packages (from apache-beam[gcp]<3,>=2.40->tfx) (1.6.0)\r\n",
      "Requirement already satisfied: google-cloud-bigquery-storage<3,>=2.6.3 in \/opt\/anaconda3\/envs\/minimal\/lib\/python3.8\/site-packages (from apache-beam[gcp]<3,>=2.40->tfx) (2.16.2)\r\n",
      "Requirement already satisfied: google-cloud-core<3,>=2.0.0 in \/opt\/anaconda3\/envs\/minimal\/lib\/python3.8\/site-packages (from apache-beam[gcp]<3,>=2.40->tfx) (2.3.2)\r\n",
      "Requirement already satisfied: google-cloud-bigtable<2.18.0,>=2.0.0 in \/opt\/anaconda3\/envs\/minimal\/lib\/python3.8\/site-packages (from apache-beam[gcp]<3,>=2.40->tfx) (2.15.0)\r\n",
      "Requirement already satisfied: google-cloud-spanner<4,>=3.0.0 in \/opt\/anaconda3\/envs\/minimal\/lib\/python3.8\/site-packages (from apache-beam[gcp]<3,>=2.40->tfx) (3.26.0)\r\n",
      "Requirement already satisfied: google-cloud-dlp<4,>=3.0.0 in \/opt\/anaconda3\/envs\/minimal\/lib\/python3.8\/site-packages (from apache-beam[gcp]<3,>=2.40->tfx) (3.9.2)\r\n",
      "Requirement already satisfied: google-cloud-language<3,>=2.0 in \/opt\/anaconda3\/envs\/minimal\/lib\/python3.8\/site-packages (from apache-beam[gcp]<3,>=2.40->tfx) (2.6.1)\r\n",
      "Requirement already satisfied: google-cloud-videointelligence<3,>=2.0 in \/opt\/anaconda3\/envs\/minimal\/lib\/python3.8\/site-packages (from apache-beam[gcp]<3,>=2.40->tfx) (2.8.3)\r\n",
      "Requirement already satisfied: google-cloud-vision<4,>=2 in \/opt\/anaconda3\/envs\/minimal\/lib\/python3.8\/site-packages (from apache-beam[gcp]<3,>=2.40->tfx) (3.1.4)\r\n",
      "Requirement already satisfied: google-cloud-recommendations-ai<0.11.0,>=0.1.0 in \/opt\/anaconda3\/envs\/minimal\/lib\/python3.8\/site-packages (from apache-beam[gcp]<3,>=2.40->tfx) (0.7.1)\r\n",
      "Requirement already satisfied: six>=1.4.0 in \/opt\/anaconda3\/envs\/minimal\/lib\/python3.8\/site-packages (from docker<5,>=4.1->tfx) (1.16.0)\r\n",
      "Requirement already satisfied: websocket-client>=0.32.0 in \/opt\/anaconda3\/envs\/minimal\/lib\/python3.8\/site-packages (from docker<5,>=4.1->tfx) (1.5.3)\r\n",
      "Requirement already satisfied: googleapis-common-protos<2.0dev,>=1.6.0 in \/opt\/anaconda3\/envs\/minimal\/lib\/python3.8\/site-packages (from google-api-core<1.33->tfx) (1.59.0)\r\n",
      "Requirement already satisfied: setuptools>=40.3.0 in \/opt\/anaconda3\/envs\/minimal\/lib\/python3.8\/site-packages (from google-api-core<1.33->tfx) (67.7.2)\r\n",
      "Requirement already satisfied: uritemplate<4dev,>=3.0.0 in \/opt\/anaconda3\/envs\/minimal\/lib\/python3.8\/site-packages (from google-api-python-client<2,>=1.8->tfx) (3.0.1)\r\n",
      "Requirement already satisfied: oauth2client>=1.4.12 in \/opt\/anaconda3\/envs\/minimal\/lib\/python3.8\/site-packages (from google-apitools<1,>=0.5->tfx) (4.1.3)\r\n",
      "Requirement already satisfied: google-cloud-storage<3.0.0dev,>=1.32.0 in \/opt\/anaconda3\/envs\/minimal\/lib\/python3.8\/site-packages (from google-cloud-aiplatform<1.18,>=1.6.2->tfx) (2.9.0)\r\n",
      "Requirement already satisfied: google-cloud-resource-manager<3.0.0dev,>=1.3.3 in \/opt\/anaconda3\/envs\/minimal\/lib\/python3.8\/site-packages (from google-cloud-aiplatform<1.18,>=1.6.2->tfx) (1.6.3)\r\n",
      "Requirement already satisfied: google-resumable-media<3.0dev,>=0.6.0 in \/opt\/anaconda3\/envs\/minimal\/lib\/python3.8\/site-packages (from google-cloud-bigquery<3,>=2.26.0->tfx) (2.5.0)\r\n",
      "Requirement already satisfied: MarkupSafe>=2.0 in \/opt\/anaconda3\/envs\/minimal\/lib\/python3.8\/site-packages (from jinja2<4,>=2.7.3->tfx) (2.1.3)\r\n",
      "Requirement already satisfied: kt-legacy in \/opt\/anaconda3\/envs\/minimal\/lib\/python3.8\/site-packages (from keras-tuner<2,>=1.0.4->tfx) (1.0.5)\r\n",
      "Requirement already satisfied: certifi>=14.05.14 in \/opt\/anaconda3\/envs\/minimal\/lib\/python3.8\/site-packages (from kubernetes<13,>=10.0.1->tfx) (2023.5.7)\r\n",
      "Requirement already satisfied: requests-oauthlib in \/opt\/anaconda3\/envs\/minimal\/lib\/python3.8\/site-packages (from kubernetes<13,>=10.0.1->tfx) (1.3.1)\r\n",
      "Requirement already satisfied: urllib3>=1.24.2 in \/opt\/anaconda3\/envs\/minimal\/lib\/python3.8\/site-packages (from kubernetes<13,>=10.0.1->tfx) (1.26.16)\r\n",
      "Requirement already satisfied: pyparsing>=2.0.2 in \/opt\/anaconda3\/envs\/minimal\/lib\/python3.8\/site-packages (from packaging<21,>=20->tfx) (3.0.9)\r\n",
      "Requirement already satisfied: psutil in \/opt\/anaconda3\/envs\/minimal\/lib\/python3.8\/site-packages (from portpicker<2,>=1.3.1->tfx) (5.9.5)\r\n",
      "Requirement already satisfied: astunparse>=1.6.0 in \/opt\/anaconda3\/envs\/minimal\/lib\/python3.8\/site-packages (from tensorflow<2.13,>=2.12.0->tfx) (1.6.3)\r\n",
      "Requirement already satisfied: flatbuffers>=2.0 in \/opt\/anaconda3\/envs\/minimal\/lib\/python3.8\/site-packages (from tensorflow<2.13,>=2.12.0->tfx) (23.5.26)\r\n",
      "Requirement already satisfied: gast<=0.4.0,>=0.2.1 in \/opt\/anaconda3\/envs\/minimal\/lib\/python3.8\/site-packages (from tensorflow<2.13,>=2.12.0->tfx) (0.4.0)\r\n",
      "Requirement already satisfied: google-pasta>=0.1.1 in \/opt\/anaconda3\/envs\/minimal\/lib\/python3.8\/site-packages (from tensorflow<2.13,>=2.12.0->tfx) (0.2.0)\r\n",
      "Requirement already satisfied: h5py>=2.9.0 in \/opt\/anaconda3\/envs\/minimal\/lib\/python3.8\/site-packages (from tensorflow<2.13,>=2.12.0->tfx) (3.8.0)\r\n",
      "Requirement already satisfied: jax>=0.3.15 in \/opt\/anaconda3\/envs\/minimal\/lib\/python3.8\/site-packages (from tensorflow<2.13,>=2.12.0->tfx) (0.4.12)\r\n",
      "Requirement already satisfied: keras<2.13,>=2.12.0 in \/opt\/anaconda3\/envs\/minimal\/lib\/python3.8\/site-packages (from tensorflow<2.13,>=2.12.0->tfx) (2.12.0)\r\n",
      "Requirement already satisfied: libclang>=13.0.0 in \/opt\/anaconda3\/envs\/minimal\/lib\/python3.8\/site-packages (from tensorflow<2.13,>=2.12.0->tfx) (16.0.0)\r\n",
      "Requirement already satisfied: opt-einsum>=2.3.2 in \/opt\/anaconda3\/envs\/minimal\/lib\/python3.8\/site-packages (from tensorflow<2.13,>=2.12.0->tfx) (3.3.0)\r\n",
      "Requirement already satisfied: tensorboard<2.13,>=2.12 in \/opt\/anaconda3\/envs\/minimal\/lib\/python3.8\/site-packages (from tensorflow<2.13,>=2.12.0->tfx) (2.12.3)\r\n",
      "Requirement already satisfied: tensorflow-estimator<2.13,>=2.12.0 in \/opt\/anaconda3\/envs\/minimal\/lib\/python3.8\/site-packages (from tensorflow<2.13,>=2.12.0->tfx) (2.12.0)\r\n",
      "Requirement already satisfied: termcolor>=1.1.0 in \/opt\/anaconda3\/envs\/minimal\/lib\/python3.8\/site-packages (from tensorflow<2.13,>=2.12.0->tfx) (2.3.0)\r\n",
      "Requirement already satisfied: wrapt<1.15,>=1.11.0 in \/opt\/anaconda3\/envs\/minimal\/lib\/python3.8\/site-packages (from tensorflow<2.13,>=2.12.0->tfx) (1.14.1)\r\n",
      "Requirement already satisfied: tensorflow-io-gcs-filesystem>=0.23.1 in \/opt\/anaconda3\/envs\/minimal\/lib\/python3.8\/site-packages (from tensorflow<2.13,>=2.12.0->tfx) (0.32.0)\r\n",
      "Requirement already satisfied: joblib>=1.2.0 in \/opt\/anaconda3\/envs\/minimal\/lib\/python3.8\/site-packages (from tensorflow-data-validation<1.14.0,>=1.13.0->tfx) (1.2.0)\r\n",
      "Requirement already satisfied: pandas<2,>=1.0 in \/opt\/anaconda3\/envs\/minimal\/lib\/python3.8\/site-packages (from tensorflow-data-validation<1.14.0,>=1.13.0->tfx) (1.5.3)\r\n",
      "Requirement already satisfied: pyfarmhash<0.4,>=0.2.2 in \/opt\/anaconda3\/envs\/minimal\/lib\/python3.8\/site-packages (from tensorflow-data-validation<1.14.0,>=1.13.0->tfx) (0.3.2)\r\n",
      "Requirement already satisfied: tensorflow-metadata<1.14,>=1.13.1 in \/opt\/anaconda3\/envs\/minimal\/lib\/python3.8\/site-packages (from tensorflow-data-validation<1.14.0,>=1.13.0->tfx) (1.13.1)\r\n",
      "Requirement already satisfied: ipython<8,>=7 in \/opt\/anaconda3\/envs\/minimal\/lib\/python3.8\/site-packages (from tensorflow-model-analysis<0.45.0,>=0.44.0->tfx) (7.31.1)\r\n",
      "Requirement already satisfied: ipywidgets<8,>=7 in \/opt\/anaconda3\/envs\/minimal\/lib\/python3.8\/site-packages (from tensorflow-model-analysis<0.45.0,>=0.44.0->tfx) (7.7.5)\r\n",
      "Requirement already satisfied: scipy<2,>=1.4.1 in \/opt\/anaconda3\/envs\/minimal\/lib\/python3.8\/site-packages (from tensorflow-model-analysis<0.45.0,>=0.44.0->tfx) (1.10.1)\r\n",
      "Requirement already satisfied: wheel<1.0,>=0.23.0 in \/opt\/anaconda3\/envs\/minimal\/lib\/python3.8\/site-packages (from astunparse>=1.6.0->tensorflow<2.13,>=2.12.0->tfx) (0.40.0)\r\n",
      "Requirement already satisfied: pyasn1-modules>=0.2.1 in \/opt\/anaconda3\/envs\/minimal\/lib\/python3.8\/site-packages (from google-auth<3,>=1.18.0->apache-beam[gcp]<3,>=2.40->tfx) (0.3.0)\r\n",
      "Requirement already satisfied: rsa<5,>=3.1.4 in \/opt\/anaconda3\/envs\/minimal\/lib\/python3.8\/site-packages (from google-auth<3,>=1.18.0->apache-beam[gcp]<3,>=2.40->tfx) (4.9)\r\n",
      "Requirement already satisfied: grpc-google-iam-v1<1.0.0dev,>=0.12.4 in \/opt\/anaconda3\/envs\/minimal\/lib\/python3.8\/site-packages (from google-cloud-bigtable<2.18.0,>=2.0.0->apache-beam[gcp]<3,>=2.40->tfx) (0.12.6)\r\n",
      "Requirement already satisfied: grpcio-status>=1.16.0 in \/opt\/anaconda3\/envs\/minimal\/lib\/python3.8\/site-packages (from google-cloud-pubsub<3,>=2.1.0->apache-beam[gcp]<3,>=2.40->tfx) (1.48.2)\r\n",
      "Requirement already satisfied: overrides<7.0.0,>=6.0.1 in \/opt\/anaconda3\/envs\/minimal\/lib\/python3.8\/site-packages (from google-cloud-pubsublite<2,>=1.2.0->apache-beam[gcp]<3,>=2.40->tfx) (6.5.0)\r\n",
      "Requirement already satisfied: sqlparse>=0.3.0 in \/opt\/anaconda3\/envs\/minimal\/lib\/python3.8\/site-packages (from google-cloud-spanner<4,>=3.0.0->apache-beam[gcp]<3,>=2.40->tfx) (0.4.4)\r\n",
      "Requirement already satisfied: google-crc32c<2.0dev,>=1.0 in \/opt\/anaconda3\/envs\/minimal\/lib\/python3.8\/site-packages (from google-resumable-media<3.0dev,>=0.6.0->google-cloud-bigquery<3,>=2.26.0->tfx) (1.5.0)\r\n",
      "Requirement already satisfied: docopt in \/opt\/anaconda3\/envs\/minimal\/lib\/python3.8\/site-packages (from hdfs<3.0.0,>=2.1.0->apache-beam[gcp]<3,>=2.40->tfx) (0.6.2)\r\n",
      "Requirement already satisfied: jedi>=0.16 in \/opt\/anaconda3\/envs\/minimal\/lib\/python3.8\/site-packages (from ipython<8,>=7->tensorflow-model-analysis<0.45.0,>=0.44.0->tfx) (0.17.2)\r\n",
      "Requirement already satisfied: decorator in \/opt\/anaconda3\/envs\/minimal\/lib\/python3.8\/site-packages (from ipython<8,>=7->tensorflow-model-analysis<0.45.0,>=0.44.0->tfx) (5.1.1)\r\n",
      "Requirement already satisfied: pickleshare in \/opt\/anaconda3\/envs\/minimal\/lib\/python3.8\/site-packages (from ipython<8,>=7->tensorflow-model-analysis<0.45.0,>=0.44.0->tfx) (0.7.5)\r\n",
      "Requirement already satisfied: traitlets>=4.2 in \/opt\/anaconda3\/envs\/minimal\/lib\/python3.8\/site-packages (from ipython<8,>=7->tensorflow-model-analysis<0.45.0,>=0.44.0->tfx) (5.9.0)\r\n",
      "Requirement already satisfied: prompt-toolkit!=3.0.0,!=3.0.1,<3.1.0,>=2.0.0 in \/opt\/anaconda3\/envs\/minimal\/lib\/python3.8\/site-packages (from ipython<8,>=7->tensorflow-model-analysis<0.45.0,>=0.44.0->tfx) (3.0.38)\r\n",
      "Requirement already satisfied: pygments in \/opt\/anaconda3\/envs\/minimal\/lib\/python3.8\/site-packages (from ipython<8,>=7->tensorflow-model-analysis<0.45.0,>=0.44.0->tfx) (2.15.1)\r\n",
      "Requirement already satisfied: backcall in \/opt\/anaconda3\/envs\/minimal\/lib\/python3.8\/site-packages (from ipython<8,>=7->tensorflow-model-analysis<0.45.0,>=0.44.0->tfx) (0.2.0)\r\n",
      "Requirement already satisfied: matplotlib-inline in \/opt\/anaconda3\/envs\/minimal\/lib\/python3.8\/site-packages (from ipython<8,>=7->tensorflow-model-analysis<0.45.0,>=0.44.0->tfx) (0.1.6)\r\n",
      "Requirement already satisfied: pexpect>4.3 in \/opt\/anaconda3\/envs\/minimal\/lib\/python3.8\/site-packages (from ipython<8,>=7->tensorflow-model-analysis<0.45.0,>=0.44.0->tfx) (4.8.0)\r\n",
      "Requirement already satisfied: ipykernel>=4.5.1 in \/opt\/anaconda3\/envs\/minimal\/lib\/python3.8\/site-packages (from ipywidgets<8,>=7->tensorflow-model-analysis<0.45.0,>=0.44.0->tfx) (5.5.3)\r\n",
      "Requirement already satisfied: ipython-genutils~=0.2.0 in \/opt\/anaconda3\/envs\/minimal\/lib\/python3.8\/site-packages (from ipywidgets<8,>=7->tensorflow-model-analysis<0.45.0,>=0.44.0->tfx) (0.2.0)\r\n",
      "Requirement already satisfied: widgetsnbextension~=3.6.4 in \/opt\/anaconda3\/envs\/minimal\/lib\/python3.8\/site-packages (from ipywidgets<8,>=7->tensorflow-model-analysis<0.45.0,>=0.44.0->tfx) (3.6.4)\r\n",
      "Requirement already satisfied: jupyterlab-widgets<3,>=1.0.0 in \/opt\/anaconda3\/envs\/minimal\/lib\/python3.8\/site-packages (from ipywidgets<8,>=7->tensorflow-model-analysis<0.45.0,>=0.44.0->tfx) (1.1.4)\r\n",
      "Requirement already satisfied: ml-dtypes>=0.1.0 in \/opt\/anaconda3\/envs\/minimal\/lib\/python3.8\/site-packages (from jax>=0.3.15->tensorflow<2.13,>=2.12.0->tfx) (0.2.0)\r\n",
      "Requirement already satisfied: importlib-metadata>=4.6 in \/opt\/anaconda3\/envs\/minimal\/lib\/python3.8\/site-packages (from jax>=0.3.15->tensorflow<2.13,>=2.12.0->tfx) (6.6.0)\r\n",
      "Requirement already satisfied: pyasn1>=0.1.7 in \/opt\/anaconda3\/envs\/minimal\/lib\/python3.8\/site-packages (from oauth2client>=1.4.12->google-apitools<1,>=0.5->tfx) (0.5.0)\r\n",
      "Requirement already satisfied: dnspython<3.0.0,>=1.16.0 in \/opt\/anaconda3\/envs\/minimal\/lib\/python3.8\/site-packages (from pymongo<5.0.0,>=3.8.0->apache-beam[gcp]<3,>=2.40->tfx) (2.3.0)\r\n",
      "Requirement already satisfied: charset-normalizer<4,>=2 in \/opt\/anaconda3\/envs\/minimal\/lib\/python3.8\/site-packages (from requests<3.0.0,>=2.24.0->apache-beam[gcp]<3,>=2.40->tfx) (2.1.1)\r\n",
      "Requirement already satisfied: idna<4,>=2.5 in \/opt\/anaconda3\/envs\/minimal\/lib\/python3.8\/site-packages (from requests<3.0.0,>=2.24.0->apache-beam[gcp]<3,>=2.40->tfx) (3.4)\r\n",
      "Requirement already satisfied: google-auth-oauthlib<1.1,>=0.5 in \/opt\/anaconda3\/envs\/minimal\/lib\/python3.8\/site-packages (from tensorboard<2.13,>=2.12->tensorflow<2.13,>=2.12.0->tfx) (0.5.3)\r\n",
      "Requirement already satisfied: markdown>=2.6.8 in \/opt\/anaconda3\/envs\/minimal\/lib\/python3.8\/site-packages (from tensorboard<2.13,>=2.12->tensorflow<2.13,>=2.12.0->tfx) (3.4.3)\r\n",
      "Requirement already satisfied: tensorboard-data-server<0.8.0,>=0.7.0 in \/opt\/anaconda3\/envs\/minimal\/lib\/python3.8\/site-packages (from tensorboard<2.13,>=2.12->tensorflow<2.13,>=2.12.0->tfx) (0.7.0)\r\n",
      "Requirement already satisfied: werkzeug>=1.0.1 in \/opt\/anaconda3\/envs\/minimal\/lib\/python3.8\/site-packages (from tensorboard<2.13,>=2.12->tensorflow<2.13,>=2.12.0->tfx) (2.3.6)\r\n",
      "Requirement already satisfied: oauthlib>=3.0.0 in \/opt\/anaconda3\/envs\/minimal\/lib\/python3.8\/site-packages (from requests-oauthlib->kubernetes<13,>=10.0.1->tfx) (3.2.2)\r\n",
      "Requirement already satisfied: zipp>=0.5 in \/opt\/anaconda3\/envs\/minimal\/lib\/python3.8\/site-packages (from importlib-metadata>=4.6->jax>=0.3.15->tensorflow<2.13,>=2.12.0->tfx) (3.15.0)\r\n",
      "Requirement already satisfied: jupyter-client in \/opt\/anaconda3\/envs\/minimal\/lib\/python3.8\/site-packages (from ipykernel>=4.5.1->ipywidgets<8,>=7->tensorflow-model-analysis<0.45.0,>=0.44.0->tfx) (8.2.0)\r\n",
      "Requirement already satisfied: tornado>=4.2 in \/opt\/anaconda3\/envs\/minimal\/lib\/python3.8\/site-packages (from ipykernel>=4.5.1->ipywidgets<8,>=7->tensorflow-model-analysis<0.45.0,>=0.44.0->tfx) (6.3.2)\r\n",
      "Requirement already satisfied: parso<0.8.0,>=0.7.0 in \/opt\/anaconda3\/envs\/minimal\/lib\/python3.8\/site-packages (from jedi>=0.16->ipython<8,>=7->tensorflow-model-analysis<0.45.0,>=0.44.0->tfx) (0.7.1)\r\n",
      "Requirement already satisfied: ptyprocess>=0.5 in \/opt\/anaconda3\/envs\/minimal\/lib\/python3.8\/site-packages (from pexpect>4.3->ipython<8,>=7->tensorflow-model-analysis<0.45.0,>=0.44.0->tfx) (0.7.0)\r\n",
      "Requirement already satisfied: wcwidth in \/opt\/anaconda3\/envs\/minimal\/lib\/python3.8\/site-packages (from prompt-toolkit!=3.0.0,!=3.0.1,<3.1.0,>=2.0.0->ipython<8,>=7->tensorflow-model-analysis<0.45.0,>=0.44.0->tfx) (0.2.6)\r\n",
      "Requirement already satisfied: notebook>=4.4.1 in \/opt\/anaconda3\/envs\/minimal\/lib\/python3.8\/site-packages (from widgetsnbextension~=3.6.4->ipywidgets<8,>=7->tensorflow-model-analysis<0.45.0,>=0.44.0->tfx) (6.5.4)\r\n",
      "Requirement already satisfied: pyzmq>=17 in \/opt\/anaconda3\/envs\/minimal\/lib\/python3.8\/site-packages (from notebook>=4.4.1->widgetsnbextension~=3.6.4->ipywidgets<8,>=7->tensorflow-model-analysis<0.45.0,>=0.44.0->tfx) (25.0.2)\r\n",
      "Requirement already satisfied: argon2-cffi in \/opt\/anaconda3\/envs\/minimal\/lib\/python3.8\/site-packages (from notebook>=4.4.1->widgetsnbextension~=3.6.4->ipywidgets<8,>=7->tensorflow-model-analysis<0.45.0,>=0.44.0->tfx) (21.3.0)\r\n",
      "Requirement already satisfied: jupyter-core>=4.6.1 in \/opt\/anaconda3\/envs\/minimal\/lib\/python3.8\/site-packages (from notebook>=4.4.1->widgetsnbextension~=3.6.4->ipywidgets<8,>=7->tensorflow-model-analysis<0.45.0,>=0.44.0->tfx) (5.3.0)\r\n",
      "Requirement already satisfied: nbformat in \/opt\/anaconda3\/envs\/minimal\/lib\/python3.8\/site-packages (from notebook>=4.4.1->widgetsnbextension~=3.6.4->ipywidgets<8,>=7->tensorflow-model-analysis<0.45.0,>=0.44.0->tfx) (5.9.0)\r\n",
      "Requirement already satisfied: nbconvert>=5 in \/opt\/anaconda3\/envs\/minimal\/lib\/python3.8\/site-packages (from notebook>=4.4.1->widgetsnbextension~=3.6.4->ipywidgets<8,>=7->tensorflow-model-analysis<0.45.0,>=0.44.0->tfx) (7.4.0)\r\n",
      "Requirement already satisfied: nest-asyncio>=1.5 in \/opt\/anaconda3\/envs\/minimal\/lib\/python3.8\/site-packages (from notebook>=4.4.1->widgetsnbextension~=3.6.4->ipywidgets<8,>=7->tensorflow-model-analysis<0.45.0,>=0.44.0->tfx) (1.5.6)\r\n",
      "Requirement already satisfied: Send2Trash>=1.8.0 in \/opt\/anaconda3\/envs\/minimal\/lib\/python3.8\/site-packages (from notebook>=4.4.1->widgetsnbextension~=3.6.4->ipywidgets<8,>=7->tensorflow-model-analysis<0.45.0,>=0.44.0->tfx) (1.8.2)\r\n",
      "Requirement already satisfied: terminado>=0.8.3 in \/opt\/anaconda3\/envs\/minimal\/lib\/python3.8\/site-packages (from notebook>=4.4.1->widgetsnbextension~=3.6.4->ipywidgets<8,>=7->tensorflow-model-analysis<0.45.0,>=0.44.0->tfx) (0.17.1)\r\n",
      "Requirement already satisfied: prometheus-client in \/opt\/anaconda3\/envs\/minimal\/lib\/python3.8\/site-packages (from notebook>=4.4.1->widgetsnbextension~=3.6.4->ipywidgets<8,>=7->tensorflow-model-analysis<0.45.0,>=0.44.0->tfx) (0.17.0)\r\n",
      "Requirement already satisfied: nbclassic>=0.4.7 in \/opt\/anaconda3\/envs\/minimal\/lib\/python3.8\/site-packages (from notebook>=4.4.1->widgetsnbextension~=3.6.4->ipywidgets<8,>=7->tensorflow-model-analysis<0.45.0,>=0.44.0->tfx) (1.0.0)\r\n",
      "Requirement already satisfied: platformdirs>=2.5 in \/opt\/anaconda3\/envs\/minimal\/lib\/python3.8\/site-packages (from jupyter-core>=4.6.1->notebook>=4.4.1->widgetsnbextension~=3.6.4->ipywidgets<8,>=7->tensorflow-model-analysis<0.45.0,>=0.44.0->tfx) (3.5.1)\r\n",
      "Requirement already satisfied: jupyter-server>=1.8 in \/opt\/anaconda3\/envs\/minimal\/lib\/python3.8\/site-packages (from nbclassic>=0.4.7->notebook>=4.4.1->widgetsnbextension~=3.6.4->ipywidgets<8,>=7->tensorflow-model-analysis<0.45.0,>=0.44.0->tfx) (2.6.0)\r\n",
      "Requirement already satisfied: notebook-shim>=0.2.3 in \/opt\/anaconda3\/envs\/minimal\/lib\/python3.8\/site-packages (from nbclassic>=0.4.7->notebook>=4.4.1->widgetsnbextension~=3.6.4->ipywidgets<8,>=7->tensorflow-model-analysis<0.45.0,>=0.44.0->tfx) (0.2.3)\r\n",
      "Requirement already satisfied: beautifulsoup4 in \/opt\/anaconda3\/envs\/minimal\/lib\/python3.8\/site-packages (from nbconvert>=5->notebook>=4.4.1->widgetsnbextension~=3.6.4->ipywidgets<8,>=7->tensorflow-model-analysis<0.45.0,>=0.44.0->tfx) (4.12.2)\r\n",
      "Requirement already satisfied: bleach in \/opt\/anaconda3\/envs\/minimal\/lib\/python3.8\/site-packages (from nbconvert>=5->notebook>=4.4.1->widgetsnbextension~=3.6.4->ipywidgets<8,>=7->tensorflow-model-analysis<0.45.0,>=0.44.0->tfx) (6.0.0)\r\n",
      "Requirement already satisfied: defusedxml in \/opt\/anaconda3\/envs\/minimal\/lib\/python3.8\/site-packages (from nbconvert>=5->notebook>=4.4.1->widgetsnbextension~=3.6.4->ipywidgets<8,>=7->tensorflow-model-analysis<0.45.0,>=0.44.0->tfx) (0.7.1)\r\n",
      "Requirement already satisfied: jupyterlab-pygments in \/opt\/anaconda3\/envs\/minimal\/lib\/python3.8\/site-packages (from nbconvert>=5->notebook>=4.4.1->widgetsnbextension~=3.6.4->ipywidgets<8,>=7->tensorflow-model-analysis<0.45.0,>=0.44.0->tfx) (0.2.2)\r\n",
      "Requirement already satisfied: mistune<3,>=2.0.3 in \/opt\/anaconda3\/envs\/minimal\/lib\/python3.8\/site-packages (from nbconvert>=5->notebook>=4.4.1->widgetsnbextension~=3.6.4->ipywidgets<8,>=7->tensorflow-model-analysis<0.45.0,>=0.44.0->tfx) (2.0.5)\r\n",
      "Requirement already satisfied: nbclient>=0.5.0 in \/opt\/anaconda3\/envs\/minimal\/lib\/python3.8\/site-packages (from nbconvert>=5->notebook>=4.4.1->widgetsnbextension~=3.6.4->ipywidgets<8,>=7->tensorflow-model-analysis<0.45.0,>=0.44.0->tfx) (0.8.0)\r\n",
      "Requirement already satisfied: pandocfilters>=1.4.1 in \/opt\/anaconda3\/envs\/minimal\/lib\/python3.8\/site-packages (from nbconvert>=5->notebook>=4.4.1->widgetsnbextension~=3.6.4->ipywidgets<8,>=7->tensorflow-model-analysis<0.45.0,>=0.44.0->tfx) (1.5.0)\r\n",
      "Requirement already satisfied: tinycss2 in \/opt\/anaconda3\/envs\/minimal\/lib\/python3.8\/site-packages (from nbconvert>=5->notebook>=4.4.1->widgetsnbextension~=3.6.4->ipywidgets<8,>=7->tensorflow-model-analysis<0.45.0,>=0.44.0->tfx) (1.2.1)\r\n",
      "Requirement already satisfied: fastjsonschema in \/opt\/anaconda3\/envs\/minimal\/lib\/python3.8\/site-packages (from nbformat->notebook>=4.4.1->widgetsnbextension~=3.6.4->ipywidgets<8,>=7->tensorflow-model-analysis<0.45.0,>=0.44.0->tfx) (2.17.1)\r\n",
      "Requirement already satisfied: jsonschema>=2.6 in \/opt\/anaconda3\/envs\/minimal\/lib\/python3.8\/site-packages (from nbformat->notebook>=4.4.1->widgetsnbextension~=3.6.4->ipywidgets<8,>=7->tensorflow-model-analysis<0.45.0,>=0.44.0->tfx) (4.17.3)\r\n",
      "Requirement already satisfied: argon2-cffi-bindings in \/opt\/anaconda3\/envs\/minimal\/lib\/python3.8\/site-packages (from argon2-cffi->notebook>=4.4.1->widgetsnbextension~=3.6.4->ipywidgets<8,>=7->tensorflow-model-analysis<0.45.0,>=0.44.0->tfx) (21.2.0)\r\n",
      "Requirement already satisfied: importlib-resources>=1.4.0 in \/opt\/anaconda3\/envs\/minimal\/lib\/python3.8\/site-packages (from jsonschema>=2.6->nbformat->notebook>=4.4.1->widgetsnbextension~=3.6.4->ipywidgets<8,>=7->tensorflow-model-analysis<0.45.0,>=0.44.0->tfx) (5.12.0)\r\n",
      "Requirement already satisfied: pkgutil-resolve-name>=1.3.10 in \/opt\/anaconda3\/envs\/minimal\/lib\/python3.8\/site-packages (from jsonschema>=2.6->nbformat->notebook>=4.4.1->widgetsnbextension~=3.6.4->ipywidgets<8,>=7->tensorflow-model-analysis<0.45.0,>=0.44.0->tfx) (1.3.10)\r\n",
      "Requirement already satisfied: pyrsistent!=0.17.0,!=0.17.1,!=0.17.2,>=0.14.0 in \/opt\/anaconda3\/envs\/minimal\/lib\/python3.8\/site-packages (from jsonschema>=2.6->nbformat->notebook>=4.4.1->widgetsnbextension~=3.6.4->ipywidgets<8,>=7->tensorflow-model-analysis<0.45.0,>=0.44.0->tfx) (0.19.3)\r\n",
      "Requirement already satisfied: anyio>=3.1.0 in \/opt\/anaconda3\/envs\/minimal\/lib\/python3.8\/site-packages (from jupyter-server>=1.8->nbclassic>=0.4.7->notebook>=4.4.1->widgetsnbextension~=3.6.4->ipywidgets<8,>=7->tensorflow-model-analysis<0.45.0,>=0.44.0->tfx) (3.7.0)\r\n",
      "Requirement already satisfied: jupyter-events>=0.6.0 in \/opt\/anaconda3\/envs\/minimal\/lib\/python3.8\/site-packages (from jupyter-server>=1.8->nbclassic>=0.4.7->notebook>=4.4.1->widgetsnbextension~=3.6.4->ipywidgets<8,>=7->tensorflow-model-analysis<0.45.0,>=0.44.0->tfx) (0.6.3)\r\n",
      "Requirement already satisfied: jupyter-server-terminals in \/opt\/anaconda3\/envs\/minimal\/lib\/python3.8\/site-packages (from jupyter-server>=1.8->nbclassic>=0.4.7->notebook>=4.4.1->widgetsnbextension~=3.6.4->ipywidgets<8,>=7->tensorflow-model-analysis<0.45.0,>=0.44.0->tfx) (0.4.4)\r\n",
      "Requirement already satisfied: cffi>=1.0.1 in \/opt\/anaconda3\/envs\/minimal\/lib\/python3.8\/site-packages (from argon2-cffi-bindings->argon2-cffi->notebook>=4.4.1->widgetsnbextension~=3.6.4->ipywidgets<8,>=7->tensorflow-model-analysis<0.45.0,>=0.44.0->tfx) (1.15.1)\r\n",
      "Requirement already satisfied: soupsieve>1.2 in \/opt\/anaconda3\/envs\/minimal\/lib\/python3.8\/site-packages (from beautifulsoup4->nbconvert>=5->notebook>=4.4.1->widgetsnbextension~=3.6.4->ipywidgets<8,>=7->tensorflow-model-analysis<0.45.0,>=0.44.0->tfx) (2.4.1)\r\n",
      "Requirement already satisfied: webencodings in \/opt\/anaconda3\/envs\/minimal\/lib\/python3.8\/site-packages (from bleach->nbconvert>=5->notebook>=4.4.1->widgetsnbextension~=3.6.4->ipywidgets<8,>=7->tensorflow-model-analysis<0.45.0,>=0.44.0->tfx) (0.5.1)\r\n",
      "Requirement already satisfied: sniffio>=1.1 in \/opt\/anaconda3\/envs\/minimal\/lib\/python3.8\/site-packages (from anyio>=3.1.0->jupyter-server>=1.8->nbclassic>=0.4.7->notebook>=4.4.1->widgetsnbextension~=3.6.4->ipywidgets<8,>=7->tensorflow-model-analysis<0.45.0,>=0.44.0->tfx) (1.3.0)\r\n",
      "Requirement already satisfied: exceptiongroup in \/opt\/anaconda3\/envs\/minimal\/lib\/python3.8\/site-packages (from anyio>=3.1.0->jupyter-server>=1.8->nbclassic>=0.4.7->notebook>=4.4.1->widgetsnbextension~=3.6.4->ipywidgets<8,>=7->tensorflow-model-analysis<0.45.0,>=0.44.0->tfx) (1.1.1)\r\n",
      "Requirement already satisfied: pycparser in \/opt\/anaconda3\/envs\/minimal\/lib\/python3.8\/site-packages (from cffi>=1.0.1->argon2-cffi-bindings->argon2-cffi->notebook>=4.4.1->widgetsnbextension~=3.6.4->ipywidgets<8,>=7->tensorflow-model-analysis<0.45.0,>=0.44.0->tfx) (2.21)\r\n",
      "Requirement already satisfied: python-json-logger>=2.0.4 in \/opt\/anaconda3\/envs\/minimal\/lib\/python3.8\/site-packages (from jupyter-events>=0.6.0->jupyter-server>=1.8->nbclassic>=0.4.7->notebook>=4.4.1->widgetsnbextension~=3.6.4->ipywidgets<8,>=7->tensorflow-model-analysis<0.45.0,>=0.44.0->tfx) (2.0.7)\r\n",
      "Requirement already satisfied: rfc3339-validator in \/opt\/anaconda3\/envs\/minimal\/lib\/python3.8\/site-packages (from jupyter-events>=0.6.0->jupyter-server>=1.8->nbclassic>=0.4.7->notebook>=4.4.1->widgetsnbextension~=3.6.4->ipywidgets<8,>=7->tensorflow-model-analysis<0.45.0,>=0.44.0->tfx) (0.1.4)\r\n",
      "Requirement already satisfied: rfc3986-validator>=0.1.1 in \/opt\/anaconda3\/envs\/minimal\/lib\/python3.8\/site-packages (from jupyter-events>=0.6.0->jupyter-server>=1.8->nbclassic>=0.4.7->notebook>=4.4.1->widgetsnbextension~=3.6.4->ipywidgets<8,>=7->tensorflow-model-analysis<0.45.0,>=0.44.0->tfx) (0.1.1)\r\n",
      "Requirement already satisfied: fqdn in \/opt\/anaconda3\/envs\/minimal\/lib\/python3.8\/site-packages (from jsonschema>=2.6->nbformat->notebook>=4.4.1->widgetsnbextension~=3.6.4->ipywidgets<8,>=7->tensorflow-model-analysis<0.45.0,>=0.44.0->tfx) (1.5.1)\r\n",
      "Requirement already satisfied: isoduration in \/opt\/anaconda3\/envs\/minimal\/lib\/python3.8\/site-packages (from jsonschema>=2.6->nbformat->notebook>=4.4.1->widgetsnbextension~=3.6.4->ipywidgets<8,>=7->tensorflow-model-analysis<0.45.0,>=0.44.0->tfx) (20.11.0)\r\n",
      "Requirement already satisfied: jsonpointer>1.13 in \/opt\/anaconda3\/envs\/minimal\/lib\/python3.8\/site-packages (from jsonschema>=2.6->nbformat->notebook>=4.4.1->widgetsnbextension~=3.6.4->ipywidgets<8,>=7->tensorflow-model-analysis<0.45.0,>=0.44.0->tfx) (2.3)\r\n",
      "Requirement already satisfied: uri-template in \/opt\/anaconda3\/envs\/minimal\/lib\/python3.8\/site-packages (from jsonschema>=2.6->nbformat->notebook>=4.4.1->widgetsnbextension~=3.6.4->ipywidgets<8,>=7->tensorflow-model-analysis<0.45.0,>=0.44.0->tfx) (1.2.0)\r\n",
      "Requirement already satisfied: webcolors>=1.11 in \/opt\/anaconda3\/envs\/minimal\/lib\/python3.8\/site-packages (from jsonschema>=2.6->nbformat->notebook>=4.4.1->widgetsnbextension~=3.6.4->ipywidgets<8,>=7->tensorflow-model-analysis<0.45.0,>=0.44.0->tfx) (1.13)\r\n",
      "Requirement already satisfied: arrow>=0.15.0 in \/opt\/anaconda3\/envs\/minimal\/lib\/python3.8\/site-packages (from isoduration->jsonschema>=2.6->nbformat->notebook>=4.4.1->widgetsnbextension~=3.6.4->ipywidgets<8,>=7->tensorflow-model-analysis<0.45.0,>=0.44.0->tfx) (1.2.3)\r\n",
      "Note: you may need to restart the kernel to use updated packages.\n"
     ],
     "output_type":"stream"
    }
   ],
   "metadata":{
    "datalore":{
     "node_id":"vyhCaJcJwjLkORUvjUVTld",
     "type":"CODE",
     "hide_input_from_viewers":false,
     "hide_output_from_viewers":false,
     "report_properties":{
      "rowId":"xpVq7aM9ieJWmyRXpUQJ0H"
     }
    }
   }
  },
  {
   "cell_type":"code",
   "source":[
    "%pip install scikit-learn"
   ],
   "execution_count":143,
   "outputs":[
    {
     "name":"stdout",
     "text":[
      "Requirement already satisfied: scikit-learn in \/opt\/anaconda3\/envs\/minimal\/lib\/python3.8\/site-packages (1.2.2)\r\n",
      "Requirement already satisfied: numpy>=1.17.3 in \/opt\/anaconda3\/envs\/minimal\/lib\/python3.8\/site-packages (from scikit-learn) (1.22.4)\r\n",
      "Requirement already satisfied: scipy>=1.3.2 in \/opt\/anaconda3\/envs\/minimal\/lib\/python3.8\/site-packages (from scikit-learn) (1.10.1)\r\n",
      "Requirement already satisfied: joblib>=1.1.1 in \/opt\/anaconda3\/envs\/minimal\/lib\/python3.8\/site-packages (from scikit-learn) (1.2.0)\r\n",
      "Requirement already satisfied: threadpoolctl>=2.0.0 in \/opt\/anaconda3\/envs\/minimal\/lib\/python3.8\/site-packages (from scikit-learn) (3.1.0)\r\n",
      "Note: you may need to restart the kernel to use updated packages.\n"
     ],
     "output_type":"stream"
    }
   ],
   "metadata":{
    "datalore":{
     "node_id":"ZUxOqCaPJwK73rs7hmRo2X",
     "type":"CODE",
     "hide_input_from_viewers":false,
     "hide_output_from_viewers":false,
     "report_properties":{
      "rowId":"kinl0VUpWif4B5xdyujHVx"
     }
    }
   }
  },
  {
   "cell_type":"code",
   "source":[
    "import sklearn.datasets\n",
    "\n",
    "import tensorflow_data_validation as tfdv\n",
    "import pandas as pd"
   ],
   "execution_count":144,
   "outputs":[
    
   ],
   "metadata":{
    "datalore":{
     "node_id":"qPgP9OBJYtPssoNwcNrX9a",
     "type":"CODE",
     "hide_input_from_viewers":false,
     "hide_output_from_viewers":false,
     "report_properties":{
      "rowId":"ZNFaTyhZpLX9EasSmnkYEw"
     }
    }
   }
  },
  {
   "cell_type":"code",
   "source":[
    "import numpy as np"
   ],
   "execution_count":145,
   "outputs":[
    
   ],
   "metadata":{
    "datalore":{
     "node_id":"ErWm5R17oa1EeerfHI05Hp",
     "type":"CODE",
     "hide_input_from_viewers":false,
     "hide_output_from_viewers":false,
     "report_properties":{
      "rowId":"FBQ2G3sGla5HGBueLuqQ5F"
     }
    }
   }
  },
  {
   "cell_type":"code",
   "source":[
    "iris=sklearn.datasets.load_iris()\n",
    "data1 = pd.DataFrame(data= np.c_[iris['data'], iris['target']],\n",
    "                     columns= iris['feature_names'] + ['target'])"
   ],
   "execution_count":146,
   "outputs":[
    
   ],
   "metadata":{
    "datalore":{
     "node_id":"sv7zuSpg1fGZZLYnOIbGWT",
     "type":"CODE",
     "hide_input_from_viewers":false,
     "hide_output_from_viewers":false,
     "report_properties":{
      "rowId":"0B4ZL9LJU5pbOQOEA1YPEP"
     }
    }
   }
  },
  {
   "cell_type":"code",
   "source":[
    "data1.tail(10)"
   ],
   "execution_count":147,
   "outputs":[
    {
     "data":{
      "text\/html":[
       "<div>\n",
       "<style scoped>\n",
       "    .dataframe tbody tr th:only-of-type {\n",
       "        vertical-align: middle;\n",
       "    }\n",
       "\n",
       "    .dataframe tbody tr th {\n",
       "        vertical-align: top;\n",
       "    }\n",
       "\n",
       "    .dataframe thead th {\n",
       "        text-align: right;\n",
       "    }\n",
       "<\/style>\n",
       "<table border=\"1\" class=\"dataframe\">\n",
       "  <thead>\n",
       "    <tr style=\"text-align: right;\">\n",
       "      <th><\/th>\n",
       "      <th>sepal length (cm)<\/th>\n",
       "      <th>sepal width (cm)<\/th>\n",
       "      <th>petal length (cm)<\/th>\n",
       "      <th>petal width (cm)<\/th>\n",
       "      <th>target<\/th>\n",
       "    <\/tr>\n",
       "  <\/thead>\n",
       "  <tbody>\n",
       "    <tr>\n",
       "      <th>140<\/th>\n",
       "      <td>6.7<\/td>\n",
       "      <td>3.1<\/td>\n",
       "      <td>5.6<\/td>\n",
       "      <td>2.4<\/td>\n",
       "      <td>2.0<\/td>\n",
       "    <\/tr>\n",
       "    <tr>\n",
       "      <th>141<\/th>\n",
       "      <td>6.9<\/td>\n",
       "      <td>3.1<\/td>\n",
       "      <td>5.1<\/td>\n",
       "      <td>2.3<\/td>\n",
       "      <td>2.0<\/td>\n",
       "    <\/tr>\n",
       "    <tr>\n",
       "      <th>142<\/th>\n",
       "      <td>5.8<\/td>\n",
       "      <td>2.7<\/td>\n",
       "      <td>5.1<\/td>\n",
       "      <td>1.9<\/td>\n",
       "      <td>2.0<\/td>\n",
       "    <\/tr>\n",
       "    <tr>\n",
       "      <th>143<\/th>\n",
       "      <td>6.8<\/td>\n",
       "      <td>3.2<\/td>\n",
       "      <td>5.9<\/td>\n",
       "      <td>2.3<\/td>\n",
       "      <td>2.0<\/td>\n",
       "    <\/tr>\n",
       "    <tr>\n",
       "      <th>144<\/th>\n",
       "      <td>6.7<\/td>\n",
       "      <td>3.3<\/td>\n",
       "      <td>5.7<\/td>\n",
       "      <td>2.5<\/td>\n",
       "      <td>2.0<\/td>\n",
       "    <\/tr>\n",
       "    <tr>\n",
       "      <th>145<\/th>\n",
       "      <td>6.7<\/td>\n",
       "      <td>3.0<\/td>\n",
       "      <td>5.2<\/td>\n",
       "      <td>2.3<\/td>\n",
       "      <td>2.0<\/td>\n",
       "    <\/tr>\n",
       "    <tr>\n",
       "      <th>146<\/th>\n",
       "      <td>6.3<\/td>\n",
       "      <td>2.5<\/td>\n",
       "      <td>5.0<\/td>\n",
       "      <td>1.9<\/td>\n",
       "      <td>2.0<\/td>\n",
       "    <\/tr>\n",
       "    <tr>\n",
       "      <th>147<\/th>\n",
       "      <td>6.5<\/td>\n",
       "      <td>3.0<\/td>\n",
       "      <td>5.2<\/td>\n",
       "      <td>2.0<\/td>\n",
       "      <td>2.0<\/td>\n",
       "    <\/tr>\n",
       "    <tr>\n",
       "      <th>148<\/th>\n",
       "      <td>6.2<\/td>\n",
       "      <td>3.4<\/td>\n",
       "      <td>5.4<\/td>\n",
       "      <td>2.3<\/td>\n",
       "      <td>2.0<\/td>\n",
       "    <\/tr>\n",
       "    <tr>\n",
       "      <th>149<\/th>\n",
       "      <td>5.9<\/td>\n",
       "      <td>3.0<\/td>\n",
       "      <td>5.1<\/td>\n",
       "      <td>1.8<\/td>\n",
       "      <td>2.0<\/td>\n",
       "    <\/tr>\n",
       "  <\/tbody>\n",
       "<\/table>\n",
       "<\/div>"
      ]
     },
     "metadata":{
      
     },
     "output_type":"display_data"
    }
   ],
   "metadata":{
    "datalore":{
     "node_id":"oVmEjtgzXLO6j2uhMc6fGf",
     "type":"CODE",
     "hide_input_from_viewers":false,
     "hide_output_from_viewers":false,
     "report_properties":{
      "rowId":"S5GxGyfbx0uziizhVw3o4M"
     }
    }
   }
  },
  {
   "cell_type":"code",
   "source":[
    "otherdata = sklearn.datasets.load_diabetes()"
   ],
   "execution_count":148,
   "outputs":[
    
   ],
   "metadata":{
    "datalore":{
     "node_id":"MMwJBjKNiL1aQ4ffGDpiyR",
     "type":"CODE",
     "hide_input_from_viewers":false,
     "hide_output_from_viewers":false,
     "report_properties":{
      "rowId":"8hxoahPw90X3l0bfLgtuRn"
     }
    }
   }
  },
  {
   "cell_type":"code",
   "source":[
    "diabetes_df = pd.DataFrame(data= np.c_[otherdata['data'], otherdata['target']],\n",
    "                     columns= otherdata['feature_names'] + ['target'])\n",
    "diabetes_df.head()"
   ],
   "execution_count":149,
   "outputs":[
    {
     "data":{
      "text\/html":[
       "<div>\n",
       "<style scoped>\n",
       "    .dataframe tbody tr th:only-of-type {\n",
       "        vertical-align: middle;\n",
       "    }\n",
       "\n",
       "    .dataframe tbody tr th {\n",
       "        vertical-align: top;\n",
       "    }\n",
       "\n",
       "    .dataframe thead th {\n",
       "        text-align: right;\n",
       "    }\n",
       "<\/style>\n",
       "<table border=\"1\" class=\"dataframe\">\n",
       "  <thead>\n",
       "    <tr style=\"text-align: right;\">\n",
       "      <th><\/th>\n",
       "      <th>age<\/th>\n",
       "      <th>sex<\/th>\n",
       "      <th>bmi<\/th>\n",
       "      <th>bp<\/th>\n",
       "      <th>s1<\/th>\n",
       "      <th>s2<\/th>\n",
       "      <th>s3<\/th>\n",
       "      <th>s4<\/th>\n",
       "      <th>s5<\/th>\n",
       "      <th>s6<\/th>\n",
       "      <th>target<\/th>\n",
       "    <\/tr>\n",
       "  <\/thead>\n",
       "  <tbody>\n",
       "    <tr>\n",
       "      <th>0<\/th>\n",
       "      <td>0.038076<\/td>\n",
       "      <td>0.050680<\/td>\n",
       "      <td>0.061696<\/td>\n",
       "      <td>0.021872<\/td>\n",
       "      <td>-0.044223<\/td>\n",
       "      <td>-0.034821<\/td>\n",
       "      <td>-0.043401<\/td>\n",
       "      <td>-0.002592<\/td>\n",
       "      <td>0.019907<\/td>\n",
       "      <td>-0.017646<\/td>\n",
       "      <td>151.0<\/td>\n",
       "    <\/tr>\n",
       "    <tr>\n",
       "      <th>1<\/th>\n",
       "      <td>-0.001882<\/td>\n",
       "      <td>-0.044642<\/td>\n",
       "      <td>-0.051474<\/td>\n",
       "      <td>-0.026328<\/td>\n",
       "      <td>-0.008449<\/td>\n",
       "      <td>-0.019163<\/td>\n",
       "      <td>0.074412<\/td>\n",
       "      <td>-0.039493<\/td>\n",
       "      <td>-0.068332<\/td>\n",
       "      <td>-0.092204<\/td>\n",
       "      <td>75.0<\/td>\n",
       "    <\/tr>\n",
       "    <tr>\n",
       "      <th>2<\/th>\n",
       "      <td>0.085299<\/td>\n",
       "      <td>0.050680<\/td>\n",
       "      <td>0.044451<\/td>\n",
       "      <td>-0.005670<\/td>\n",
       "      <td>-0.045599<\/td>\n",
       "      <td>-0.034194<\/td>\n",
       "      <td>-0.032356<\/td>\n",
       "      <td>-0.002592<\/td>\n",
       "      <td>0.002861<\/td>\n",
       "      <td>-0.025930<\/td>\n",
       "      <td>141.0<\/td>\n",
       "    <\/tr>\n",
       "    <tr>\n",
       "      <th>3<\/th>\n",
       "      <td>-0.089063<\/td>\n",
       "      <td>-0.044642<\/td>\n",
       "      <td>-0.011595<\/td>\n",
       "      <td>-0.036656<\/td>\n",
       "      <td>0.012191<\/td>\n",
       "      <td>0.024991<\/td>\n",
       "      <td>-0.036038<\/td>\n",
       "      <td>0.034309<\/td>\n",
       "      <td>0.022688<\/td>\n",
       "      <td>-0.009362<\/td>\n",
       "      <td>206.0<\/td>\n",
       "    <\/tr>\n",
       "    <tr>\n",
       "      <th>4<\/th>\n",
       "      <td>0.005383<\/td>\n",
       "      <td>-0.044642<\/td>\n",
       "      <td>-0.036385<\/td>\n",
       "      <td>0.021872<\/td>\n",
       "      <td>0.003935<\/td>\n",
       "      <td>0.015596<\/td>\n",
       "      <td>0.008142<\/td>\n",
       "      <td>-0.002592<\/td>\n",
       "      <td>-0.031988<\/td>\n",
       "      <td>-0.046641<\/td>\n",
       "      <td>135.0<\/td>\n",
       "    <\/tr>\n",
       "  <\/tbody>\n",
       "<\/table>\n",
       "<\/div>"
      ]
     },
     "metadata":{
      
     },
     "output_type":"display_data"
    }
   ],
   "metadata":{
    "datalore":{
     "node_id":"ql1zC9kqn9mwzekc8200XB",
     "type":"CODE",
     "hide_input_from_viewers":false,
     "hide_output_from_viewers":false,
     "report_properties":{
      "rowId":"ML4nTokiM0DOO0RZeCGS7V"
     }
    }
   }
  },
  {
   "cell_type":"code",
   "source":[
    "display(diabetes_df.info())\n",
    "display(data1.info())"
   ],
   "execution_count":150,
   "outputs":[
    {
     "name":"stdout",
     "text":[
      "<class 'pandas.core.frame.DataFrame'>\n",
      "RangeIndex: 442 entries, 0 to 441\n",
      "Data columns (total 11 columns):\n",
      " #   Column  Non-Null Count  Dtype  \n",
      "---  ------  --------------  -----  \n",
      " 0   age     442 non-null    float64\n",
      " 1   sex     442 non-null    float64\n",
      " 2   bmi     442 non-null    float64\n",
      " 3   bp      442 non-null    float64\n",
      " 4   s1      442 non-null    float64\n",
      " 5   s2      442 non-null    float64\n",
      " 6   s3      442 non-null    float64\n",
      " 7   s4      442 non-null    float64\n",
      " 8   s5      442 non-null    float64\n",
      " 9   s6      442 non-null    float64\n",
      " 10  target  442 non-null    float64\n",
      "dtypes: float64(11)\n",
      "memory usage: 38.1 KB\n",
      "<class 'pandas.core.frame.DataFrame'>\n",
      "RangeIndex: 150 entries, 0 to 149\n",
      "Data columns (total 5 columns):\n",
      " #   Column             Non-Null Count  Dtype  \n",
      "---  ------             --------------  -----  \n",
      " 0   sepal length (cm)  150 non-null    float64\n",
      " 1   sepal width (cm)   150 non-null    float64\n",
      " 2   petal length (cm)  150 non-null    float64\n",
      " 3   petal width (cm)   150 non-null    float64\n",
      " 4   target             150 non-null    float64\n",
      "dtypes: float64(5)\n",
      "memory usage: 6.0 KB\n"
     ],
     "output_type":"stream"
    },
    {
     "data":{
      "text\/plain":[
       "None"
      ]
     },
     "metadata":{
      
     },
     "output_type":"display_data"
    },
    {
     "data":{
      "text\/plain":[
       "None"
      ]
     },
     "metadata":{
      
     },
     "output_type":"display_data"
    }
   ],
   "metadata":{
    "datalore":{
     "node_id":"7HARH0cqPLdgYIawZpRqOA",
     "type":"CODE",
     "hide_input_from_viewers":false,
     "hide_output_from_viewers":false,
     "report_properties":{
      "rowId":"msg3aNJjilZlORPdsRrnxd"
     }
    }
   }
  },
  {
   "cell_type":"code",
   "source":[
    "import pandas as pd\n",
    "stroke_df = pd.read_csv(\"\/data\/notebook_files\/healthcare-dataset-stroke-data.csv\")\n",
    "stroke_df.head()\n",
    "\n",
    "#for documentation and more info about dataset : https:\/\/www.kaggle.com\/datasets\/fedesoriano\/stroke-prediction-dataset"
   ],
   "execution_count":151,
   "outputs":[
    {
     "data":{
      "text\/html":[
       "<div>\n",
       "<style scoped>\n",
       "    .dataframe tbody tr th:only-of-type {\n",
       "        vertical-align: middle;\n",
       "    }\n",
       "\n",
       "    .dataframe tbody tr th {\n",
       "        vertical-align: top;\n",
       "    }\n",
       "\n",
       "    .dataframe thead th {\n",
       "        text-align: right;\n",
       "    }\n",
       "<\/style>\n",
       "<table border=\"1\" class=\"dataframe\">\n",
       "  <thead>\n",
       "    <tr style=\"text-align: right;\">\n",
       "      <th><\/th>\n",
       "      <th>id<\/th>\n",
       "      <th>gender<\/th>\n",
       "      <th>age<\/th>\n",
       "      <th>hypertension<\/th>\n",
       "      <th>heart_disease<\/th>\n",
       "      <th>ever_married<\/th>\n",
       "      <th>work_type<\/th>\n",
       "      <th>Residence_type<\/th>\n",
       "      <th>avg_glucose_level<\/th>\n",
       "      <th>bmi<\/th>\n",
       "      <th>smoking_status<\/th>\n",
       "      <th>stroke<\/th>\n",
       "    <\/tr>\n",
       "  <\/thead>\n",
       "  <tbody>\n",
       "    <tr>\n",
       "      <th>0<\/th>\n",
       "      <td>9046<\/td>\n",
       "      <td>Male<\/td>\n",
       "      <td>67.0<\/td>\n",
       "      <td>0<\/td>\n",
       "      <td>1<\/td>\n",
       "      <td>Yes<\/td>\n",
       "      <td>Private<\/td>\n",
       "      <td>Urban<\/td>\n",
       "      <td>228.69<\/td>\n",
       "      <td>36.6<\/td>\n",
       "      <td>formerly smoked<\/td>\n",
       "      <td>1<\/td>\n",
       "    <\/tr>\n",
       "    <tr>\n",
       "      <th>1<\/th>\n",
       "      <td>51676<\/td>\n",
       "      <td>Female<\/td>\n",
       "      <td>61.0<\/td>\n",
       "      <td>0<\/td>\n",
       "      <td>0<\/td>\n",
       "      <td>Yes<\/td>\n",
       "      <td>Self-employed<\/td>\n",
       "      <td>Rural<\/td>\n",
       "      <td>202.21<\/td>\n",
       "      <td>NaN<\/td>\n",
       "      <td>never smoked<\/td>\n",
       "      <td>1<\/td>\n",
       "    <\/tr>\n",
       "    <tr>\n",
       "      <th>2<\/th>\n",
       "      <td>31112<\/td>\n",
       "      <td>Male<\/td>\n",
       "      <td>80.0<\/td>\n",
       "      <td>0<\/td>\n",
       "      <td>1<\/td>\n",
       "      <td>Yes<\/td>\n",
       "      <td>Private<\/td>\n",
       "      <td>Rural<\/td>\n",
       "      <td>105.92<\/td>\n",
       "      <td>32.5<\/td>\n",
       "      <td>never smoked<\/td>\n",
       "      <td>1<\/td>\n",
       "    <\/tr>\n",
       "    <tr>\n",
       "      <th>3<\/th>\n",
       "      <td>60182<\/td>\n",
       "      <td>Female<\/td>\n",
       "      <td>49.0<\/td>\n",
       "      <td>0<\/td>\n",
       "      <td>0<\/td>\n",
       "      <td>Yes<\/td>\n",
       "      <td>Private<\/td>\n",
       "      <td>Urban<\/td>\n",
       "      <td>171.23<\/td>\n",
       "      <td>34.4<\/td>\n",
       "      <td>smokes<\/td>\n",
       "      <td>1<\/td>\n",
       "    <\/tr>\n",
       "    <tr>\n",
       "      <th>4<\/th>\n",
       "      <td>1665<\/td>\n",
       "      <td>Female<\/td>\n",
       "      <td>79.0<\/td>\n",
       "      <td>1<\/td>\n",
       "      <td>0<\/td>\n",
       "      <td>Yes<\/td>\n",
       "      <td>Self-employed<\/td>\n",
       "      <td>Rural<\/td>\n",
       "      <td>174.12<\/td>\n",
       "      <td>24.0<\/td>\n",
       "      <td>never smoked<\/td>\n",
       "      <td>1<\/td>\n",
       "    <\/tr>\n",
       "  <\/tbody>\n",
       "<\/table>\n",
       "<\/div>"
      ]
     },
     "metadata":{
      
     },
     "output_type":"display_data"
    }
   ],
   "metadata":{
    "datalore":{
     "node_id":"uXOutswLvXJ6YdHyMttMaB",
     "type":"CODE",
     "hide_input_from_viewers":false,
     "hide_output_from_viewers":false,
     "report_properties":{
      "rowId":"x13yTuVmYq1fLCkfyPfFMb"
     }
    }
   }
  },
  {
   "cell_type":"code",
   "source":[
    "stroke_df.info()"
   ],
   "execution_count":152,
   "outputs":[
    {
     "name":"stdout",
     "text":[
      "<class 'pandas.core.frame.DataFrame'>\n",
      "RangeIndex: 5110 entries, 0 to 5109\n",
      "Data columns (total 12 columns):\n",
      " #   Column             Non-Null Count  Dtype  \n",
      "---  ------             --------------  -----  \n",
      " 0   id                 5110 non-null   int64  \n",
      " 1   gender             5110 non-null   object \n",
      " 2   age                5110 non-null   float64\n",
      " 3   hypertension       5110 non-null   int64  \n",
      " 4   heart_disease      5110 non-null   int64  \n",
      " 5   ever_married       5110 non-null   object \n",
      " 6   work_type          5110 non-null   object \n",
      " 7   Residence_type     5110 non-null   object \n",
      " 8   avg_glucose_level  5110 non-null   float64\n",
      " 9   bmi                4909 non-null   float64\n",
      " 10  smoking_status     5110 non-null   object \n",
      " 11  stroke             5110 non-null   int64  \n",
      "dtypes: float64(3), int64(4), object(5)\n",
      "memory usage: 479.2+ KB\n"
     ],
     "output_type":"stream"
    }
   ],
   "metadata":{
    "datalore":{
     "node_id":"QTJPgCDER5roXGSlFugLDp",
     "type":"CODE",
     "hide_input_from_viewers":false,
     "hide_output_from_viewers":false,
     "report_properties":{
      "rowId":"QCFzDGHuerDEiaaFEGrQV9"
     }
    }
   }
  },
  {
   "cell_type":"code",
   "source":[
    "import tensorflow_data_validation as tfdv\n",
    "stroke_stats = tfdv.generate_statistics_from_dataframe(stroke_df)\n",
    "\n",
    "tfdv.visualize_statistics(stroke_stats)"
   ],
   "execution_count":153,
   "outputs":[
    {
     "data":{
      "text\/html":[
       "<iframe id='facets-iframe' width=\"100%\" height=\"500px\"><\/iframe>\n",
       "        <script>\n",
       "        facets_iframe = document.getElementById('facets-iframe');\n",
       "        facets_html = '<script src=\"https:\/\/cdnjs.cloudflare.com\/ajax\/libs\/webcomponentsjs\/1.3.3\/webcomponents-lite.js\"><\\\/script><link rel=\"import\" href=\"https:\/\/raw.githubusercontent.com\/PAIR-code\/facets\/master\/facets-dist\/facets-jupyter.html\"><facets-overview proto-input=\"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\"><\/facets-overview>';\n",
       "        facets_iframe.srcdoc = facets_html;\n",
       "         facets_iframe.id = \"\";\n",
       "         setTimeout(() => {\n",
       "           facets_iframe.setAttribute('height', facets_iframe.contentWindow.document.body.offsetHeight + 'px')\n",
       "         }, 1500)\n",
       "         <\/script>"
      ]
     },
     "metadata":{
      
     },
     "output_type":"display_data"
    }
   ],
   "metadata":{
    "datalore":{
     "node_id":"cuzSNmnEFigHCFNAgxdpST",
     "type":"CODE",
     "hide_input_from_viewers":false,
     "hide_output_from_viewers":false,
     "report_properties":{
      "rowId":"wtLvvS2qwPFvEQVHcxvOu0"
     }
    }
   }
  },
  {
   "cell_type":"code",
   "source":[
    "#there are lot's of zeros on stroke, hypertension and heart_disease columns this gives us warning.\n",
    "#tfdv didn't take them as objects and their types are int64 so that's why.\n",
    "\n",
    "#minimum age value is 0,08 and it doesn't make any sense. the value needs to be checked."
   ],
   "execution_count":154,
   "outputs":[
    
   ],
   "metadata":{
    "datalore":{
     "node_id":"BFx782tU2HAVbvVzsiOKeS",
     "type":"CODE",
     "hide_input_from_viewers":false,
     "hide_output_from_viewers":false,
     "report_properties":{
      "rowId":"5URtncFLbZaWvPEOdbyruU"
     }
    }
   }
  },
  {
   "cell_type":"code",
   "source":[
    "#also there are missing values in bmi(body-mass-index) in data this missing values may affect our prediction\n",
    "#that's why it gives us a warning"
   ],
   "execution_count":155,
   "outputs":[
    
   ],
   "metadata":{
    "datalore":{
     "node_id":"RFpiGsI81Jr4p3718YTQvz",
     "type":"CODE",
     "hide_input_from_viewers":false,
     "hide_output_from_viewers":false,
     "report_properties":{
      "rowId":"I3PNfOrvjbAiGQU2T1mUfS"
     }
    }
   }
  },
  {
   "cell_type":"code",
   "source":[
    "#Let's take a look at categorical insights\n",
    "# female population is almost 1\/3 bigger than male population this biased data will cause wrong predictions\n"
   ],
   "execution_count":156,
   "outputs":[
    
   ],
   "metadata":{
    "datalore":{
     "node_id":"PFtWkC9BULhpd8ufXPd28u",
     "type":"CODE",
     "hide_input_from_viewers":false,
     "hide_output_from_viewers":false,
     "report_properties":{
      "rowId":"OA8kqX0MTwWo0rFvx5boW8"
     }
    }
   }
  },
  {
   "cell_type":"code",
   "source":[
    "#displaying schema of the statistics\n",
    "schema =tfdv.infer_schema(stroke_stats)\n",
    "tfdv.display_schema(schema)"
   ],
   "execution_count":157,
   "outputs":[
    {
     "data":{
      "text\/html":[
       "<div>\n",
       "<style scoped>\n",
       "    .dataframe tbody tr th:only-of-type {\n",
       "        vertical-align: middle;\n",
       "    }\n",
       "\n",
       "    .dataframe tbody tr th {\n",
       "        vertical-align: top;\n",
       "    }\n",
       "\n",
       "    .dataframe thead th {\n",
       "        text-align: right;\n",
       "    }\n",
       "<\/style>\n",
       "<table border=\"1\" class=\"dataframe\">\n",
       "  <thead>\n",
       "    <tr style=\"text-align: right;\">\n",
       "      <th><\/th>\n",
       "      <th>Type<\/th>\n",
       "      <th>Presence<\/th>\n",
       "      <th>Valency<\/th>\n",
       "      <th>Domain<\/th>\n",
       "    <\/tr>\n",
       "    <tr>\n",
       "      <th>Feature name<\/th>\n",
       "      <th><\/th>\n",
       "      <th><\/th>\n",
       "      <th><\/th>\n",
       "      <th><\/th>\n",
       "    <\/tr>\n",
       "  <\/thead>\n",
       "  <tbody>\n",
       "    <tr>\n",
       "      <th>'id'<\/th>\n",
       "      <td>INT<\/td>\n",
       "      <td>required<\/td>\n",
       "      <td><\/td>\n",
       "      <td>-<\/td>\n",
       "    <\/tr>\n",
       "    <tr>\n",
       "      <th>'gender'<\/th>\n",
       "      <td>STRING<\/td>\n",
       "      <td>required<\/td>\n",
       "      <td><\/td>\n",
       "      <td>'gender'<\/td>\n",
       "    <\/tr>\n",
       "    <tr>\n",
       "      <th>'age'<\/th>\n",
       "      <td>FLOAT<\/td>\n",
       "      <td>required<\/td>\n",
       "      <td><\/td>\n",
       "      <td>-<\/td>\n",
       "    <\/tr>\n",
       "    <tr>\n",
       "      <th>'hypertension'<\/th>\n",
       "      <td>INT<\/td>\n",
       "      <td>required<\/td>\n",
       "      <td><\/td>\n",
       "      <td>-<\/td>\n",
       "    <\/tr>\n",
       "    <tr>\n",
       "      <th>'heart_disease'<\/th>\n",
       "      <td>INT<\/td>\n",
       "      <td>required<\/td>\n",
       "      <td><\/td>\n",
       "      <td>-<\/td>\n",
       "    <\/tr>\n",
       "    <tr>\n",
       "      <th>'ever_married'<\/th>\n",
       "      <td>STRING<\/td>\n",
       "      <td>required<\/td>\n",
       "      <td><\/td>\n",
       "      <td>'ever_married'<\/td>\n",
       "    <\/tr>\n",
       "    <tr>\n",
       "      <th>'work_type'<\/th>\n",
       "      <td>STRING<\/td>\n",
       "      <td>required<\/td>\n",
       "      <td><\/td>\n",
       "      <td>'work_type'<\/td>\n",
       "    <\/tr>\n",
       "    <tr>\n",
       "      <th>'Residence_type'<\/th>\n",
       "      <td>STRING<\/td>\n",
       "      <td>required<\/td>\n",
       "      <td><\/td>\n",
       "      <td>'Residence_type'<\/td>\n",
       "    <\/tr>\n",
       "    <tr>\n",
       "      <th>'avg_glucose_level'<\/th>\n",
       "      <td>FLOAT<\/td>\n",
       "      <td>required<\/td>\n",
       "      <td><\/td>\n",
       "      <td>-<\/td>\n",
       "    <\/tr>\n",
       "    <tr>\n",
       "      <th>'bmi'<\/th>\n",
       "      <td>FLOAT<\/td>\n",
       "      <td>optional<\/td>\n",
       "      <td>single<\/td>\n",
       "      <td>-<\/td>\n",
       "    <\/tr>\n",
       "    <tr>\n",
       "      <th>'smoking_status'<\/th>\n",
       "      <td>STRING<\/td>\n",
       "      <td>required<\/td>\n",
       "      <td><\/td>\n",
       "      <td>'smoking_status'<\/td>\n",
       "    <\/tr>\n",
       "    <tr>\n",
       "      <th>'stroke'<\/th>\n",
       "      <td>INT<\/td>\n",
       "      <td>required<\/td>\n",
       "      <td><\/td>\n",
       "      <td>-<\/td>\n",
       "    <\/tr>\n",
       "  <\/tbody>\n",
       "<\/table>\n",
       "<\/div>"
      ]
     },
     "metadata":{
      
     },
     "output_type":"display_data"
    },
    {
     "data":{
      "text\/html":[
       "<div>\n",
       "<style scoped>\n",
       "    .dataframe tbody tr th:only-of-type {\n",
       "        vertical-align: middle;\n",
       "    }\n",
       "\n",
       "    .dataframe tbody tr th {\n",
       "        vertical-align: top;\n",
       "    }\n",
       "\n",
       "    .dataframe thead th {\n",
       "        text-align: right;\n",
       "    }\n",
       "<\/style>\n",
       "<table border=\"1\" class=\"dataframe\">\n",
       "  <thead>\n",
       "    <tr style=\"text-align: right;\">\n",
       "      <th><\/th>\n",
       "      <th>Values<\/th>\n",
       "    <\/tr>\n",
       "    <tr>\n",
       "      <th>Domain<\/th>\n",
       "      <th><\/th>\n",
       "    <\/tr>\n",
       "  <\/thead>\n",
       "  <tbody>\n",
       "    <tr>\n",
       "      <th>'gender'<\/th>\n",
       "      <td>'Female', 'Male', 'Other'<\/td>\n",
       "    <\/tr>\n",
       "    <tr>\n",
       "      <th>'ever_married'<\/th>\n",
       "      <td>'No', 'Yes'<\/td>\n",
       "    <\/tr>\n",
       "    <tr>\n",
       "      <th>'work_type'<\/th>\n",
       "      <td>'Govt_job', 'Never_worked', 'Private', 'Self-employed', 'children'<\/td>\n",
       "    <\/tr>\n",
       "    <tr>\n",
       "      <th>'Residence_type'<\/th>\n",
       "      <td>'Rural', 'Urban'<\/td>\n",
       "    <\/tr>\n",
       "    <tr>\n",
       "      <th>'smoking_status'<\/th>\n",
       "      <td>'Unknown', 'formerly smoked', 'never smoked', 'smokes'<\/td>\n",
       "    <\/tr>\n",
       "  <\/tbody>\n",
       "<\/table>\n",
       "<\/div>"
      ]
     },
     "metadata":{
      
     },
     "output_type":"display_data"
    }
   ],
   "metadata":{
    "datalore":{
     "node_id":"565J6YC13sMA2DYlGZqVGf",
     "type":"CODE",
     "hide_input_from_viewers":true,
     "hide_output_from_viewers":true
    }
   }
  },
  {
   "cell_type":"code",
   "source":[
    "stroke_df.columns"
   ],
   "execution_count":158,
   "outputs":[
    {
     "data":{
      "text\/plain":[
       "Index(['id', 'gender', 'age', 'hypertension', 'heart_disease', 'ever_married',\n",
       "       'work_type', 'Residence_type', 'avg_glucose_level', 'bmi',\n",
       "       'smoking_status', 'stroke'],\n",
       "      dtype='object')"
      ]
     },
     "metadata":{
      
     },
     "output_type":"display_data"
    }
   ],
   "metadata":{
    "datalore":{
     "node_id":"E4U3jVjTB2aVUlEr8lum5o",
     "type":"CODE",
     "hide_input_from_viewers":true,
     "hide_output_from_viewers":true
    }
   }
  },
  {
   "cell_type":"code",
   "source":[
    "from tensorflow_metadata.proto.v0 import schema_pb2\n",
    "\n",
    "dom = schema_pb2.FloatDomain(name=\"age\", min=1, max=90) #creating domain buffer\n",
    "\n",
    "tfdv.set_domain(schema=schema,feature_path=\"age\",domain=dom) #setting domain\n",
    "\n",
    "tfdv.get_feature(schema, \"bmi\").presence.min_fraction = 1 #changing fraction of bmi(at least one value for bmi is required)\n",
    "\n",
    "tfdv.display_schema(schema)"
   ],
   "execution_count":159,
   "outputs":[
    {
     "data":{
      "text\/html":[
       "<div>\n",
       "<style scoped>\n",
       "    .dataframe tbody tr th:only-of-type {\n",
       "        vertical-align: middle;\n",
       "    }\n",
       "\n",
       "    .dataframe tbody tr th {\n",
       "        vertical-align: top;\n",
       "    }\n",
       "\n",
       "    .dataframe thead th {\n",
       "        text-align: right;\n",
       "    }\n",
       "<\/style>\n",
       "<table border=\"1\" class=\"dataframe\">\n",
       "  <thead>\n",
       "    <tr style=\"text-align: right;\">\n",
       "      <th><\/th>\n",
       "      <th>Type<\/th>\n",
       "      <th>Presence<\/th>\n",
       "      <th>Valency<\/th>\n",
       "      <th>Domain<\/th>\n",
       "    <\/tr>\n",
       "    <tr>\n",
       "      <th>Feature name<\/th>\n",
       "      <th><\/th>\n",
       "      <th><\/th>\n",
       "      <th><\/th>\n",
       "      <th><\/th>\n",
       "    <\/tr>\n",
       "  <\/thead>\n",
       "  <tbody>\n",
       "    <tr>\n",
       "      <th>'id'<\/th>\n",
       "      <td>INT<\/td>\n",
       "      <td>required<\/td>\n",
       "      <td><\/td>\n",
       "      <td>-<\/td>\n",
       "    <\/tr>\n",
       "    <tr>\n",
       "      <th>'gender'<\/th>\n",
       "      <td>STRING<\/td>\n",
       "      <td>required<\/td>\n",
       "      <td><\/td>\n",
       "      <td>'gender'<\/td>\n",
       "    <\/tr>\n",
       "    <tr>\n",
       "      <th>'age'<\/th>\n",
       "      <td>FLOAT<\/td>\n",
       "      <td>required<\/td>\n",
       "      <td><\/td>\n",
       "      <td>min: 1.000000; max: 90.000000<\/td>\n",
       "    <\/tr>\n",
       "    <tr>\n",
       "      <th>'hypertension'<\/th>\n",
       "      <td>INT<\/td>\n",
       "      <td>required<\/td>\n",
       "      <td><\/td>\n",
       "      <td>-<\/td>\n",
       "    <\/tr>\n",
       "    <tr>\n",
       "      <th>'heart_disease'<\/th>\n",
       "      <td>INT<\/td>\n",
       "      <td>required<\/td>\n",
       "      <td><\/td>\n",
       "      <td>-<\/td>\n",
       "    <\/tr>\n",
       "    <tr>\n",
       "      <th>'ever_married'<\/th>\n",
       "      <td>STRING<\/td>\n",
       "      <td>required<\/td>\n",
       "      <td><\/td>\n",
       "      <td>'ever_married'<\/td>\n",
       "    <\/tr>\n",
       "    <tr>\n",
       "      <th>'work_type'<\/th>\n",
       "      <td>STRING<\/td>\n",
       "      <td>required<\/td>\n",
       "      <td><\/td>\n",
       "      <td>'work_type'<\/td>\n",
       "    <\/tr>\n",
       "    <tr>\n",
       "      <th>'Residence_type'<\/th>\n",
       "      <td>STRING<\/td>\n",
       "      <td>required<\/td>\n",
       "      <td><\/td>\n",
       "      <td>'Residence_type'<\/td>\n",
       "    <\/tr>\n",
       "    <tr>\n",
       "      <th>'avg_glucose_level'<\/th>\n",
       "      <td>FLOAT<\/td>\n",
       "      <td>required<\/td>\n",
       "      <td><\/td>\n",
       "      <td>-<\/td>\n",
       "    <\/tr>\n",
       "    <tr>\n",
       "      <th>'bmi'<\/th>\n",
       "      <td>FLOAT<\/td>\n",
       "      <td>required<\/td>\n",
       "      <td>single<\/td>\n",
       "      <td>-<\/td>\n",
       "    <\/tr>\n",
       "    <tr>\n",
       "      <th>'smoking_status'<\/th>\n",
       "      <td>STRING<\/td>\n",
       "      <td>required<\/td>\n",
       "      <td><\/td>\n",
       "      <td>'smoking_status'<\/td>\n",
       "    <\/tr>\n",
       "    <tr>\n",
       "      <th>'stroke'<\/th>\n",
       "      <td>INT<\/td>\n",
       "      <td>required<\/td>\n",
       "      <td><\/td>\n",
       "      <td>-<\/td>\n",
       "    <\/tr>\n",
       "  <\/tbody>\n",
       "<\/table>\n",
       "<\/div>"
      ]
     },
     "metadata":{
      
     },
     "output_type":"display_data"
    },
    {
     "data":{
      "text\/html":[
       "<div>\n",
       "<style scoped>\n",
       "    .dataframe tbody tr th:only-of-type {\n",
       "        vertical-align: middle;\n",
       "    }\n",
       "\n",
       "    .dataframe tbody tr th {\n",
       "        vertical-align: top;\n",
       "    }\n",
       "\n",
       "    .dataframe thead th {\n",
       "        text-align: right;\n",
       "    }\n",
       "<\/style>\n",
       "<table border=\"1\" class=\"dataframe\">\n",
       "  <thead>\n",
       "    <tr style=\"text-align: right;\">\n",
       "      <th><\/th>\n",
       "      <th>Values<\/th>\n",
       "    <\/tr>\n",
       "    <tr>\n",
       "      <th>Domain<\/th>\n",
       "      <th><\/th>\n",
       "    <\/tr>\n",
       "  <\/thead>\n",
       "  <tbody>\n",
       "    <tr>\n",
       "      <th>'gender'<\/th>\n",
       "      <td>'Female', 'Male', 'Other'<\/td>\n",
       "    <\/tr>\n",
       "    <tr>\n",
       "      <th>'ever_married'<\/th>\n",
       "      <td>'No', 'Yes'<\/td>\n",
       "    <\/tr>\n",
       "    <tr>\n",
       "      <th>'work_type'<\/th>\n",
       "      <td>'Govt_job', 'Never_worked', 'Private', 'Self-employed', 'children'<\/td>\n",
       "    <\/tr>\n",
       "    <tr>\n",
       "      <th>'Residence_type'<\/th>\n",
       "      <td>'Rural', 'Urban'<\/td>\n",
       "    <\/tr>\n",
       "    <tr>\n",
       "      <th>'smoking_status'<\/th>\n",
       "      <td>'Unknown', 'formerly smoked', 'never smoked', 'smokes'<\/td>\n",
       "    <\/tr>\n",
       "  <\/tbody>\n",
       "<\/table>\n",
       "<\/div>"
      ]
     },
     "metadata":{
      
     },
     "output_type":"display_data"
    }
   ],
   "metadata":{
    "datalore":{
     "node_id":"QkfJvO9TfimZOxEcjNPRHi",
     "type":"CODE",
     "hide_input_from_viewers":true,
     "hide_output_from_viewers":true
    }
   }
  },
  {
   "cell_type":"code",
   "source":[
    "anomalies = tfdv.validate_statistics(schema=schema,statistics=stroke_stats)\n",
    "tfdv.display_anomalies(anomalies)"
   ],
   "execution_count":160,
   "outputs":[
    {
     "data":{
      "text\/html":[
       "<div>\n",
       "<style scoped>\n",
       "    .dataframe tbody tr th:only-of-type {\n",
       "        vertical-align: middle;\n",
       "    }\n",
       "\n",
       "    .dataframe tbody tr th {\n",
       "        vertical-align: top;\n",
       "    }\n",
       "\n",
       "    .dataframe thead th {\n",
       "        text-align: right;\n",
       "    }\n",
       "<\/style>\n",
       "<table border=\"1\" class=\"dataframe\">\n",
       "  <thead>\n",
       "    <tr style=\"text-align: right;\">\n",
       "      <th><\/th>\n",
       "      <th>Anomaly short description<\/th>\n",
       "      <th>Anomaly long description<\/th>\n",
       "    <\/tr>\n",
       "    <tr>\n",
       "      <th>Feature name<\/th>\n",
       "      <th><\/th>\n",
       "      <th><\/th>\n",
       "    <\/tr>\n",
       "  <\/thead>\n",
       "  <tbody>\n",
       "    <tr>\n",
       "      <th>'bmi'<\/th>\n",
       "      <td>Column dropped<\/td>\n",
       "      <td>The feature was present in fewer examples than expected: minimum fraction = 1.000000, actual = 0.960665<\/td>\n",
       "    <\/tr>\n",
       "    <tr>\n",
       "      <th>'age'<\/th>\n",
       "      <td>Out-of-range values<\/td>\n",
       "      <td>Unexpectedly low values: 0.08&lt;1(upto six significant digits)<\/td>\n",
       "    <\/tr>\n",
       "  <\/tbody>\n",
       "<\/table>\n",
       "<\/div>"
      ]
     },
     "metadata":{
      
     },
     "output_type":"display_data"
    }
   ],
   "metadata":{
    "datalore":{
     "node_id":"RupHaGB5NiYrNSvT7FnAKN",
     "type":"CODE",
     "hide_input_from_viewers":true,
     "hide_output_from_viewers":true
    }
   }
  },
  {
   "cell_type":"code",
   "source":[
    "def make_people_fat(m):\n",
    "\n",
    "    m += (m*30\/100)\n",
    "    return m\n",
    "\n",
    "        \n",
    "drifted_stroke = stroke_df.copy()\n",
    "drifted_stroke[\"bmi\"] = drifted_stroke[\"bmi\"].apply(lambda x: make_people_fat(x))\n",
    "\n",
    "drifted_stats = tfdv.generate_statistics_from_dataframe(drifted_stroke)\n",
    "tfdv.visualize_statistics(lhs_statistics=stroke_stats,rhs_statistics=drifted_stats,lhs_name=\"Normal Stroke\",rhs_name=\"Drifted Stroke\")"
   ],
   "execution_count":169,
   "outputs":[
    {
     "data":{
      "text\/html":[
       "<iframe id='facets-iframe' width=\"100%\" height=\"500px\"><\/iframe>\n",
       "        <script>\n",
       "        facets_iframe = document.getElementById('facets-iframe');\n",
       "        facets_html = '<script src=\"https:\/\/cdnjs.cloudflare.com\/ajax\/libs\/webcomponentsjs\/1.3.3\/webcomponents-lite.js\"><\\\/script><link rel=\"import\" href=\"https:\/\/raw.githubusercontent.com\/PAIR-code\/facets\/master\/facets-dist\/facets-jupyter.html\"><facets-overview proto-input=\"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\"><\/facets-overview>';\n",
       "        facets_iframe.srcdoc = facets_html;\n",
       "         facets_iframe.id = \"\";\n",
       "         setTimeout(() => {\n",
       "           facets_iframe.setAttribute('height', facets_iframe.contentWindow.document.body.offsetHeight + 'px')\n",
       "         }, 1500)\n",
       "         <\/script>"
      ]
     },
     "metadata":{
      
     },
     "output_type":"display_data"
    }
   ],
   "metadata":{
    "datalore":{
     "node_id":"lhB0giYP9pJngrwbc6QXxR",
     "type":"CODE",
     "hide_input_from_viewers":true,
     "hide_output_from_viewers":true
    }
   }
  },
  {
   "cell_type":"code",
   "source":[
    "\n",
    "bmi = tfdv.get_feature(schema, 'bmi')\n",
    "bmi.drift_comparator.jensen_shannon_divergence.threshold = 0.1\n",
    "\n",
    "anomaly__drifted = tfdv.validate_statistics(drifted_stats, schema=schema,previous_statistics=stroke_stats)\n",
    "\n",
    "tfdv.display_anomalies(anomaly__drifted)"
   ],
   "execution_count":182,
   "outputs":[
    {
     "data":{
      "text\/html":[
       "<div>\n",
       "<style scoped>\n",
       "    .dataframe tbody tr th:only-of-type {\n",
       "        vertical-align: middle;\n",
       "    }\n",
       "\n",
       "    .dataframe tbody tr th {\n",
       "        vertical-align: top;\n",
       "    }\n",
       "\n",
       "    .dataframe thead th {\n",
       "        text-align: right;\n",
       "    }\n",
       "<\/style>\n",
       "<table border=\"1\" class=\"dataframe\">\n",
       "  <thead>\n",
       "    <tr style=\"text-align: right;\">\n",
       "      <th><\/th>\n",
       "      <th>Anomaly short description<\/th>\n",
       "      <th>Anomaly long description<\/th>\n",
       "    <\/tr>\n",
       "    <tr>\n",
       "      <th>Feature name<\/th>\n",
       "      <th><\/th>\n",
       "      <th><\/th>\n",
       "    <\/tr>\n",
       "  <\/thead>\n",
       "  <tbody>\n",
       "    <tr>\n",
       "      <th>'bmi'<\/th>\n",
       "      <td>Multiple errors<\/td>\n",
       "      <td>The feature was present in fewer examples than expected: minimum fraction = 1.000000, actual = 0.960665 The approximate Jensen-Shannon divergence between current and previous is 0.170707 (up to six significant digits), above the threshold 0.1.<\/td>\n",
       "    <\/tr>\n",
       "    <tr>\n",
       "      <th>'age'<\/th>\n",
       "      <td>Out-of-range values<\/td>\n",
       "      <td>Unexpectedly low values: 0.08&lt;1(upto six significant digits)<\/td>\n",
       "    <\/tr>\n",
       "  <\/tbody>\n",
       "<\/table>\n",
       "<\/div>"
      ]
     },
     "metadata":{
      
     },
     "output_type":"display_data"
    }
   ],
   "metadata":{
    "datalore":{
     "node_id":"ZPSxOoqtM91qnUwMef2I9r",
     "type":"CODE",
     "hide_input_from_viewers":true,
     "hide_output_from_viewers":true
    }
   }
  }
 ],
 "metadata":{
  "kernelspec":{
   "display_name":"Python",
   "language":"python",
   "name":"python"
  },
  "datalore":{
   "computation_mode":"JUPYTER",
   "package_manager":"conda",
   "base_environment":"minimal",
   "packages":[
    
   ],
   "report_row_ids":[
    "5Aqc01C12asHriaAECl04r",
    "xpVq7aM9ieJWmyRXpUQJ0H",
    "kinl0VUpWif4B5xdyujHVx",
    "ZNFaTyhZpLX9EasSmnkYEw",
    "FBQ2G3sGla5HGBueLuqQ5F",
    "0B4ZL9LJU5pbOQOEA1YPEP",
    "S5GxGyfbx0uziizhVw3o4M",
    "8hxoahPw90X3l0bfLgtuRn",
    "ML4nTokiM0DOO0RZeCGS7V",
    "msg3aNJjilZlORPdsRrnxd",
    "x13yTuVmYq1fLCkfyPfFMb",
    "QCFzDGHuerDEiaaFEGrQV9",
    "wtLvvS2qwPFvEQVHcxvOu0",
    "5URtncFLbZaWvPEOdbyruU",
    "I3PNfOrvjbAiGQU2T1mUfS",
    "OA8kqX0MTwWo0rFvx5boW8"
   ],
   "version":3
  }
 },
 "nbformat":4,
 "nbformat_minor":4
}